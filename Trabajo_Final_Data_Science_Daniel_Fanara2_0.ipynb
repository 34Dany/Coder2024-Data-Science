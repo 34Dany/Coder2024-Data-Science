{
  "nbformat": 4,
  "nbformat_minor": 0,
  "metadata": {
    "colab": {
      "provenance": [],
      "mount_file_id": "19uv9Q4nUvKh4CWnSEVEl3WLG-nrI0wok",
      "authorship_tag": "ABX9TyP7CC+/28NQFPki2HgyK8rD",
      "include_colab_link": true
    },
    "kernelspec": {
      "name": "python3",
      "display_name": "Python 3"
    },
    "language_info": {
      "name": "python"
    }
  },
  "cells": [
    {
      "cell_type": "markdown",
      "metadata": {
        "id": "view-in-github",
        "colab_type": "text"
      },
      "source": [
        "<a href=\"https://colab.research.google.com/github/34Dany/Coder2024-Data-Science/blob/main/Trabajo_Final_Data_Science_Daniel_Fanara2_0.ipynb\" target=\"_parent\"><img src=\"https://colab.research.google.com/assets/colab-badge.svg\" alt=\"Open In Colab\"/></a>"
      ]
    },
    {
      "cell_type": "code",
      "execution_count": 3,
      "metadata": {
        "id": "5sThyTcV-0ld",
        "colab": {
          "base_uri": "https://localhost:8080/"
        },
        "outputId": "8faf69c1-1733-45e1-f19c-8f8787811cb0"
      },
      "outputs": [
        {
          "output_type": "stream",
          "name": "stdout",
          "text": [
            "Requirement already satisfied: gspread in /usr/local/lib/python3.10/dist-packages (6.0.2)\n",
            "Requirement already satisfied: pandas in /usr/local/lib/python3.10/dist-packages (2.0.3)\n",
            "Requirement already satisfied: openpyxl in /usr/local/lib/python3.10/dist-packages (3.1.2)\n",
            "Requirement already satisfied: google-auth>=1.12.0 in /usr/local/lib/python3.10/dist-packages (from gspread) (2.27.0)\n",
            "Requirement already satisfied: google-auth-oauthlib>=0.4.1 in /usr/local/lib/python3.10/dist-packages (from gspread) (1.2.0)\n",
            "Requirement already satisfied: StrEnum==0.4.15 in /usr/local/lib/python3.10/dist-packages (from gspread) (0.4.15)\n",
            "Requirement already satisfied: python-dateutil>=2.8.2 in /usr/local/lib/python3.10/dist-packages (from pandas) (2.8.2)\n",
            "Requirement already satisfied: pytz>=2020.1 in /usr/local/lib/python3.10/dist-packages (from pandas) (2023.4)\n",
            "Requirement already satisfied: tzdata>=2022.1 in /usr/local/lib/python3.10/dist-packages (from pandas) (2024.1)\n",
            "Requirement already satisfied: numpy>=1.21.0 in /usr/local/lib/python3.10/dist-packages (from pandas) (1.25.2)\n",
            "Requirement already satisfied: et-xmlfile in /usr/local/lib/python3.10/dist-packages (from openpyxl) (1.1.0)\n",
            "Requirement already satisfied: cachetools<6.0,>=2.0.0 in /usr/local/lib/python3.10/dist-packages (from google-auth>=1.12.0->gspread) (5.3.3)\n",
            "Requirement already satisfied: pyasn1-modules>=0.2.1 in /usr/local/lib/python3.10/dist-packages (from google-auth>=1.12.0->gspread) (0.4.0)\n",
            "Requirement already satisfied: rsa<5,>=3.1.4 in /usr/local/lib/python3.10/dist-packages (from google-auth>=1.12.0->gspread) (4.9)\n",
            "Requirement already satisfied: requests-oauthlib>=0.7.0 in /usr/local/lib/python3.10/dist-packages (from google-auth-oauthlib>=0.4.1->gspread) (1.3.1)\n",
            "Requirement already satisfied: six>=1.5 in /usr/local/lib/python3.10/dist-packages (from python-dateutil>=2.8.2->pandas) (1.16.0)\n",
            "Requirement already satisfied: pyasn1<0.7.0,>=0.4.6 in /usr/local/lib/python3.10/dist-packages (from pyasn1-modules>=0.2.1->google-auth>=1.12.0->gspread) (0.6.0)\n",
            "Requirement already satisfied: oauthlib>=3.0.0 in /usr/local/lib/python3.10/dist-packages (from requests-oauthlib>=0.7.0->google-auth-oauthlib>=0.4.1->gspread) (3.2.2)\n",
            "Requirement already satisfied: requests>=2.0.0 in /usr/local/lib/python3.10/dist-packages (from requests-oauthlib>=0.7.0->google-auth-oauthlib>=0.4.1->gspread) (2.31.0)\n",
            "Requirement already satisfied: charset-normalizer<4,>=2 in /usr/local/lib/python3.10/dist-packages (from requests>=2.0.0->requests-oauthlib>=0.7.0->google-auth-oauthlib>=0.4.1->gspread) (3.3.2)\n",
            "Requirement already satisfied: idna<4,>=2.5 in /usr/local/lib/python3.10/dist-packages (from requests>=2.0.0->requests-oauthlib>=0.7.0->google-auth-oauthlib>=0.4.1->gspread) (3.7)\n",
            "Requirement already satisfied: urllib3<3,>=1.21.1 in /usr/local/lib/python3.10/dist-packages (from requests>=2.0.0->requests-oauthlib>=0.7.0->google-auth-oauthlib>=0.4.1->gspread) (2.0.7)\n",
            "Requirement already satisfied: certifi>=2017.4.17 in /usr/local/lib/python3.10/dist-packages (from requests>=2.0.0->requests-oauthlib>=0.7.0->google-auth-oauthlib>=0.4.1->gspread) (2024.2.2)\n"
          ]
        }
      ],
      "source": [
        "import pandas as pd\n",
        "import matplotlib as mpl\n",
        "import matplotlib.pyplot as plt\n",
        "import seaborn as sns\n",
        "from sklearn.model_selection import train_test_split\n",
        "from sklearn.compose import ColumnTransformer\n",
        "from sklearn.preprocessing import OneHotEncoder\n",
        "from sklearn.linear_model import LinearRegression\n",
        "from sklearn.pipeline import Pipeline\n",
        "from sklearn.linear_model import LogisticRegression\n",
        "from sklearn.impute import SimpleImputer\n",
        "from sklearn.metrics import mean_squared_error\n",
        "from sklearn.linear_model import Ridge\n",
        "from sklearn.decomposition import PCA\n",
        "from sklearn.preprocessing import StandardScaler\n",
        "from google.auth import default\n",
        "from google.colab import auth\n",
        "!pip install gspread pandas openpyxl"
      ]
    },
    {
      "cell_type": "markdown",
      "source": [
        "*Dataframe Robos unidades*\n",
        "\n",
        "# Introducción\n",
        "\n",
        "Con el fin de analizar el comportamiento de los siniestros por robo de unidad se propone analizar los robos del período 202310 acaecidos y registrados en la superintendencia en Argentina\n",
        "estudiando el comportamiento de las siguientes variables:\n",
        "\n",
        "\n",
        "\n",
        "*   Modelos mas Robados\n",
        "*   Zonas de mayor frecuencia  \n",
        "*   Frecuencia por fechas de tramite\n",
        "*   Incidencia en la frecuencia del año de la unidad siniestrada\n",
        "*   Incidencia en la frecuencia por algun patron en la edad de los titulares\n",
        "\n",
        "\n",
        "\n",
        "\n",
        "Teniendo a disposición estos datos, podemos analizarlos y desmenuzarlos con el fin de poder indagar acerca de la existencia o no, de algún parámetro que refleje alguna tendencia actual en cuanto a cantidad de robos segun año / modelo o zona.\n",
        "Ésta información podría serle de utilidad a las compañías de seguros, e incluso a los concesionarios , para poder determinar su produccion / standares de ventas.\n",
        "\n",
        "Con ello surgen una cierta variedad de hipótesis, que dan lugar a una Hipótesis mayor, es decir, la hipótesis que trataremos de resolver en el presente trabajo.\n",
        "\n",
        "Hipótesis 0: Existe una relacion  entre la cantidad de robos y el año de la unidad\n",
        "\n",
        "Aplicando esta hipótesis obtenemos del análisis inicial.\n",
        "\n",
        "\n",
        "**Contexto Empresarial:**\n",
        "\n",
        "El complejo y exhaustivo panorama económico que está atravesando la argentina, con el constante cambio de costos y precios todos los dias, se necesita realizar un análisis y reformulación constante de los costos de las coberturas de seguros , de acuerdo a aquellas que generan gran volumen de erogación monetaria en pagos por siniestros. Siendo de esta forma, reformulada la base de aplicación de las nuevas tarifas , en funcion a la frecuencia siniestral de cada tipo de unidad suscripta\n",
        "\n",
        "\n",
        "**Problema Empresarial**\n",
        "\n",
        "Dentro de la revisión se determina que hubo un gran incremento de la cantidad de robos totales en el territorio argentino, el amparo de tal cobertura, al ser abonada ante el siniestro, genera automáticamente una desproporcion entre el costo ingresado de la prima y el pago del siniestro.\n",
        "Se requiere una reestructuracion de los costos, pero para ello se debe contar con datos acerca de si existe una relacion directa entre la sinistralidad ( cantidad de casos registrados) y el tipo de unidad que se suscribe.\n",
        "\n",
        "\n",
        "**Contexto analítico**\n",
        "\n",
        "Se cuenta con una base de información, a modo de muestra , de los robos de Octubre de 2023 en el terrotiorio argentino, sin discriminar por compañía de seguro ni cobertura contratada. Con esto se pretende elaborar un trabajo que pueda predecir / determinar si hay algun patron específico en el robo de unidades, con el fin de que esa información , pueda ayudar a la reestructuración de costos.\n",
        "\n",
        "A fines prácticos se referirá a la misma como:\n",
        "DF3 ==> Robos de unidad  y bajas registrales realizadas en el mes de Octubre 2023, cotejadas por el gobierno de Argentina\n",
        "\n",
        "\n"
      ],
      "metadata": {
        "id": "HqIcsIwz_BUh"
      }
    },
    {
      "cell_type": "code",
      "source": [
        "\n",
        "\n",
        "xlsx_url = \"https://drive.google.com/uc?id=1ZY588-WWIGOnHap1eXKZGYoyDmIlGk1O\"\n",
        "\n",
        "\n",
        "DF3 = pd.read_excel(xlsx_url)\n",
        "\n",
        "subset_df = DF3[['dia', 'EDAD']]\n",
        "Estad = subset_df.describe().loc[['mean', '50%','count']]\n",
        "\n",
        "print(Estad)"
      ],
      "metadata": {
        "colab": {
          "base_uri": "https://localhost:8080/"
        },
        "id": "eskh6Z9k_THj",
        "outputId": "83d32461-cf68-4c95-e0c2-ee027621c318"
      },
      "execution_count": 4,
      "outputs": [
        {
          "output_type": "stream",
          "name": "stdout",
          "text": [
            "               dia         EDAD\n",
            "mean     15.714881    44.403387\n",
            "50%      17.000000    43.000000\n",
            "count  3602.000000  3602.000000\n"
          ]
        }
      ]
    },
    {
      "cell_type": "code",
      "source": [
        "from google.colab import drive\n",
        "drive.mount('/content/drive')\n"
      ],
      "metadata": {
        "colab": {
          "base_uri": "https://localhost:8080/"
        },
        "id": "gdwYvu6c_TFW",
        "outputId": "3c46c93f-5dea-4b55-debe-fe8f89a2cf40"
      },
      "execution_count": 5,
      "outputs": [
        {
          "output_type": "stream",
          "name": "stdout",
          "text": [
            "Drive already mounted at /content/drive; to attempt to forcibly remount, call drive.mount(\"/content/drive\", force_remount=True).\n"
          ]
        }
      ]
    },
    {
      "cell_type": "markdown",
      "source": [
        "# **Variables Utilizadas en el Análisis**\n",
        "\n",
        "•tramite_tipo: Tipo de trámite\n",
        "\n",
        "•tramite_fecha: Fecha del trámite\n",
        "\n",
        "•dia: Día del mes del trámite\n",
        "\n",
        "•fecha_inscripcion_inicial: Fecha de inscripción inicial\n",
        "\n",
        "•q_casos: Cantidad de casos\n",
        "\n",
        "•registro_seccional_codigo: Código del registro seccional\n",
        "\n",
        "•registro_seccional_descripcion: Descripción del registro seccional\n",
        "\n",
        "•registro_seccional_provincia: Provincia del registro seccional\n",
        "\n",
        "•automotor_origen: Origen del automotor\n",
        "\n",
        "•automotor_anio_modelo: Año modelo del automotor\n",
        "\n",
        "•EDAD: Edad del titular del automotor\n",
        "\n",
        "•automotor_tipo_codigo: Código del tipo de automotor\n",
        "\n",
        "•automotor_tipo_descripcion: Descripción del tipo de automotor\n",
        "\n",
        "•automotor_marca_codigo: Código de la marca del automotor\n",
        "\n",
        "•automotor_marca_descripcion: Descripción de la marca del automotor\n",
        "\n",
        "•automotor_modelo_codigo: Código del modelo del automotor\n",
        "\n",
        "•automotor_modelo_descripcion: Descripción del modelo del automotor\n",
        "\n",
        "•automotor_uso_codigo: Código del uso del automotor\n",
        "\n",
        "•automotor_uso_descripcion: Descripción del uso del automotor\n",
        "\n",
        "•titular_tipo_persona: Tipo de persona del titular\n",
        "\n",
        "•titular_domicilio_localidad: Localidad del domicilio del titular\n",
        "\n",
        "•titular_domicilio_provincia: Provincia del domicilio del titular\n",
        "\n",
        "•titular_genero: Género del titular\n",
        "\n",
        "•titular_anio_nacimiento: Año de nacimiento del titular\n",
        "\n",
        "•titular_pais_nacimiento: País de nacimiento del titular\n",
        "\n",
        "•titular_porcentaje_titularidad: Porcentaje de titularidad del automotor\n",
        "\n",
        "•titular_domicilio_provincia_id: ID de la provincia del domicilio del titular\n",
        "\n",
        "•titular_pais_nacimiento_id: ID del país de nacimiento del titular\n"
      ],
      "metadata": {
        "id": "GS5pVgAw_kl5"
      }
    },
    {
      "cell_type": "code",
      "source": [
        "DF3.info()"
      ],
      "metadata": {
        "colab": {
          "base_uri": "https://localhost:8080/"
        },
        "id": "DlOKlmIL_l8I",
        "outputId": "596e19ea-3eb4-4369-a3bf-e6cd01fa13b7"
      },
      "execution_count": 6,
      "outputs": [
        {
          "output_type": "stream",
          "name": "stdout",
          "text": [
            "<class 'pandas.core.frame.DataFrame'>\n",
            "RangeIndex: 3602 entries, 0 to 3601\n",
            "Data columns (total 28 columns):\n",
            " #   Column                          Non-Null Count  Dtype         \n",
            "---  ------                          --------------  -----         \n",
            " 0   tramite_tipo                    3602 non-null   object        \n",
            " 1   tramite_fecha                   3602 non-null   datetime64[ns]\n",
            " 2   dia                             3602 non-null   int64         \n",
            " 3   fecha_inscripcion_inicial       3602 non-null   datetime64[ns]\n",
            " 4   q_casos                         3602 non-null   int64         \n",
            " 5   registro_seccional_codigo       3602 non-null   int64         \n",
            " 6   registro_seccional_descripcion  3602 non-null   object        \n",
            " 7   registro_seccional_provincia    3602 non-null   object        \n",
            " 8   automotor_origen                3602 non-null   object        \n",
            " 9   automotor_anio_modelo           3599 non-null   float64       \n",
            " 10  EDAD                            3602 non-null   int64         \n",
            " 11  automotor_tipo_codigo           3508 non-null   float64       \n",
            " 12  automotor_tipo_descripcion      3602 non-null   object        \n",
            " 13  automotor_marca_codigo          3562 non-null   object        \n",
            " 14  automotor_marca_descripcion     3602 non-null   object        \n",
            " 15  automotor_modelo_codigo         3555 non-null   object        \n",
            " 16  automotor_modelo_descripcion    3602 non-null   object        \n",
            " 17  automotor_uso_codigo            3602 non-null   int64         \n",
            " 18  automotor_uso_descripcion       3602 non-null   object        \n",
            " 19  titular_tipo_persona            3602 non-null   object        \n",
            " 20  titular_domicilio_localidad     3594 non-null   object        \n",
            " 21  titular_domicilio_provincia     3602 non-null   object        \n",
            " 22  titular_genero                  3602 non-null   object        \n",
            " 23  titular_anio_nacimiento         3602 non-null   int64         \n",
            " 24  titular_pais_nacimiento         3602 non-null   object        \n",
            " 25  titular_porcentaje_titularidad  3602 non-null   int64         \n",
            " 26  titular_domicilio_provincia_id  3602 non-null   int64         \n",
            " 27  titular_pais_nacimiento_id      3415 non-null   object        \n",
            "dtypes: datetime64[ns](2), float64(2), int64(8), object(16)\n",
            "memory usage: 788.1+ KB\n"
          ]
        }
      ]
    },
    {
      "cell_type": "code",
      "source": [
        "# Se decide llenar los valores perdidos en la columna titular pais nacimiento con el dato por default ARG, no se utilizara para los analisis siguientes,\n",
        "# A su vez se decide llenar los valores nulos en los códigos  con 0, ya que tampoco seran relevantes en el análisis\n",
        "DF3['titular_pais_nacimiento_id'].fillna('ARG', inplace=True)\n",
        "DF3.fillna(0,inplace=True)\n",
        "DF3.head(80)"
      ],
      "metadata": {
        "colab": {
          "base_uri": "https://localhost:8080/",
          "height": 1000
        },
        "id": "y8NqnozS_sDT",
        "outputId": "e36a5a5a-4921-49d2-827d-406d7b65cdc0"
      },
      "execution_count": 7,
      "outputs": [
        {
          "output_type": "execute_result",
          "data": {
            "text/plain": [
              "                                     tramite_tipo tramite_fecha  dia  \\\n",
              "0   DENUNCIA DE ROBO O HURTO / RETENCION INDEBIDA    2023-10-09    9   \n",
              "1   DENUNCIA DE ROBO O HURTO / RETENCION INDEBIDA    2023-10-20   20   \n",
              "2   DENUNCIA DE ROBO O HURTO / RETENCION INDEBIDA    2023-10-03    3   \n",
              "3   DENUNCIA DE ROBO O HURTO / RETENCION INDEBIDA    2023-10-06    6   \n",
              "4   DENUNCIA DE ROBO O HURTO / RETENCION INDEBIDA    2023-10-23   23   \n",
              "..                                            ...           ...  ...   \n",
              "75  DENUNCIA DE ROBO O HURTO / RETENCION INDEBIDA    2023-10-04    4   \n",
              "76  DENUNCIA DE ROBO O HURTO / RETENCION INDEBIDA    2023-10-04    4   \n",
              "77  DENUNCIA DE ROBO O HURTO / RETENCION INDEBIDA    2023-10-25   25   \n",
              "78  DENUNCIA DE ROBO O HURTO / RETENCION INDEBIDA    2023-10-05    5   \n",
              "79  DENUNCIA DE ROBO O HURTO / RETENCION INDEBIDA    2023-10-31   31   \n",
              "\n",
              "   fecha_inscripcion_inicial  q_casos  registro_seccional_codigo  \\\n",
              "0                 1999-09-02        1                      21058   \n",
              "1                 2007-01-10        1                      21054   \n",
              "2                 2000-11-07        1                      22009   \n",
              "3                 1982-07-20        1                      21048   \n",
              "4                 1994-03-01        1                      21057   \n",
              "..                       ...      ...                        ...   \n",
              "75                2012-01-26        1                       1241   \n",
              "76                2019-03-19        1                       1046   \n",
              "77                2017-06-29        1                       1309   \n",
              "78                2009-01-06        1                      15002   \n",
              "79                2013-06-17        1                       2081   \n",
              "\n",
              "   registro_seccional_descripcion registro_seccional_provincia  \\\n",
              "0                   ROSARIO Nº 15                     Santa Fe   \n",
              "1                ARROYO SECO Nº 2                     Santa Fe   \n",
              "2                     OJO DE AGUA          Santiago del Estero   \n",
              "3                SAN LORENZO Nº 2                     Santa Fe   \n",
              "4                   ROSARIO Nº 14                     Santa Fe   \n",
              "..                            ...                          ...   \n",
              "75            MAR DEL PLATA Nº 10                 Buenos Aires   \n",
              "76                 LA PLATA Nº 04                 Buenos Aires   \n",
              "77                     MERLO Nº 5                 Buenos Aires   \n",
              "78        SAN MARTIN DE LOS ANDES                      Neuquén   \n",
              "79         CAPITAL FEDERAL Nº 081    Ciudad Autónoma de Bs.As.   \n",
              "\n",
              "   automotor_origen  automotor_anio_modelo  ...  automotor_uso_descripcion  \\\n",
              "0          Nacional                 1999.0  ...                    Privado   \n",
              "1      Protocolo 21                 2007.0  ...                    Privado   \n",
              "2          Nacional                 2000.0  ...                    Privado   \n",
              "3          Nacional                 1982.0  ...                    Privado   \n",
              "4         Importado                 1994.0  ...                    Privado   \n",
              "..              ...                    ...  ...                        ...   \n",
              "75     Protocolo 21                 2012.0  ...                    Privado   \n",
              "76        Importado                 2018.0  ...                    Privado   \n",
              "77     Protocolo 21                 2017.0  ...                    Privado   \n",
              "78        Importado                 2009.0  ...                    Privado   \n",
              "79     Protocolo 21                 2013.0  ...                    Privado   \n",
              "\n",
              "    titular_tipo_persona titular_domicilio_localidad  \\\n",
              "0                 Física                     ROSARIO   \n",
              "1                 Física                     ALVAREZ   \n",
              "2                 Física                     SUMAMPA   \n",
              "3                 Física            CAPITAN BERMUDEZ   \n",
              "4                 Física                     ROSARIO   \n",
              "..                   ...                         ...   \n",
              "75                Física               MAR DEL PLATA   \n",
              "76              Jurídica            MANUEL B. GONNET   \n",
              "77                Física                    LIBERTAD   \n",
              "78                Física          JUNÍN_DE_LOS_ANDES   \n",
              "79                Física         C.AUTONOMA DE BS.AS   \n",
              "\n",
              "   titular_domicilio_provincia   titular_genero titular_anio_nacimiento  \\\n",
              "0                     SANTA FE        Masculino                    1988   \n",
              "1                     SANTA FE  No identificado                    1974   \n",
              "2               SGO.DEL ESTERO  No identificado                    1992   \n",
              "3                     SANTA FE        Masculino                    1980   \n",
              "4                     SANTA FE         Femenino                    1970   \n",
              "..                         ...              ...                     ...   \n",
              "75                BUENOS AIRES        Masculino                    1980   \n",
              "76                BUENOS AIRES        No aplica                    2020   \n",
              "77                BUENOS AIRES        Masculino                    1997   \n",
              "78                     NEUQUEN        Masculino                    1987   \n",
              "79         C.AUTONOMA DE BS.AS        Masculino                    1973   \n",
              "\n",
              "   titular_pais_nacimiento  titular_porcentaje_titularidad  \\\n",
              "0                ARGENTINA                             100   \n",
              "1                ARGENTINA                             100   \n",
              "2                ARGENTINA                             100   \n",
              "3                ARGENTINA                             100   \n",
              "4                ARGENTINA                             100   \n",
              "..                     ...                             ...   \n",
              "75               ARGENTINA                             100   \n",
              "76               No aplica                             100   \n",
              "77               ARGENTINA                             100   \n",
              "78               ARGENTINA                             100   \n",
              "79               ARGENTINA                             100   \n",
              "\n",
              "   titular_domicilio_provincia_id titular_pais_nacimiento_id  \n",
              "0                              82                        ARG  \n",
              "1                              82                        ARG  \n",
              "2                              86                        ARG  \n",
              "3                              82                        ARG  \n",
              "4                              82                        ARG  \n",
              "..                            ...                        ...  \n",
              "75                              6                        ARG  \n",
              "76                              6                        ARG  \n",
              "77                              6                        ARG  \n",
              "78                             58                        ARG  \n",
              "79                              2                        ARG  \n",
              "\n",
              "[80 rows x 28 columns]"
            ],
            "text/html": [
              "\n",
              "  <div id=\"df-4d07161d-b228-4733-b5a9-78b36650b788\" class=\"colab-df-container\">\n",
              "    <div>\n",
              "<style scoped>\n",
              "    .dataframe tbody tr th:only-of-type {\n",
              "        vertical-align: middle;\n",
              "    }\n",
              "\n",
              "    .dataframe tbody tr th {\n",
              "        vertical-align: top;\n",
              "    }\n",
              "\n",
              "    .dataframe thead th {\n",
              "        text-align: right;\n",
              "    }\n",
              "</style>\n",
              "<table border=\"1\" class=\"dataframe\">\n",
              "  <thead>\n",
              "    <tr style=\"text-align: right;\">\n",
              "      <th></th>\n",
              "      <th>tramite_tipo</th>\n",
              "      <th>tramite_fecha</th>\n",
              "      <th>dia</th>\n",
              "      <th>fecha_inscripcion_inicial</th>\n",
              "      <th>q_casos</th>\n",
              "      <th>registro_seccional_codigo</th>\n",
              "      <th>registro_seccional_descripcion</th>\n",
              "      <th>registro_seccional_provincia</th>\n",
              "      <th>automotor_origen</th>\n",
              "      <th>automotor_anio_modelo</th>\n",
              "      <th>...</th>\n",
              "      <th>automotor_uso_descripcion</th>\n",
              "      <th>titular_tipo_persona</th>\n",
              "      <th>titular_domicilio_localidad</th>\n",
              "      <th>titular_domicilio_provincia</th>\n",
              "      <th>titular_genero</th>\n",
              "      <th>titular_anio_nacimiento</th>\n",
              "      <th>titular_pais_nacimiento</th>\n",
              "      <th>titular_porcentaje_titularidad</th>\n",
              "      <th>titular_domicilio_provincia_id</th>\n",
              "      <th>titular_pais_nacimiento_id</th>\n",
              "    </tr>\n",
              "  </thead>\n",
              "  <tbody>\n",
              "    <tr>\n",
              "      <th>0</th>\n",
              "      <td>DENUNCIA DE ROBO O HURTO / RETENCION INDEBIDA</td>\n",
              "      <td>2023-10-09</td>\n",
              "      <td>9</td>\n",
              "      <td>1999-09-02</td>\n",
              "      <td>1</td>\n",
              "      <td>21058</td>\n",
              "      <td>ROSARIO Nº 15</td>\n",
              "      <td>Santa Fe</td>\n",
              "      <td>Nacional</td>\n",
              "      <td>1999.0</td>\n",
              "      <td>...</td>\n",
              "      <td>Privado</td>\n",
              "      <td>Física</td>\n",
              "      <td>ROSARIO</td>\n",
              "      <td>SANTA FE</td>\n",
              "      <td>Masculino</td>\n",
              "      <td>1988</td>\n",
              "      <td>ARGENTINA</td>\n",
              "      <td>100</td>\n",
              "      <td>82</td>\n",
              "      <td>ARG</td>\n",
              "    </tr>\n",
              "    <tr>\n",
              "      <th>1</th>\n",
              "      <td>DENUNCIA DE ROBO O HURTO / RETENCION INDEBIDA</td>\n",
              "      <td>2023-10-20</td>\n",
              "      <td>20</td>\n",
              "      <td>2007-01-10</td>\n",
              "      <td>1</td>\n",
              "      <td>21054</td>\n",
              "      <td>ARROYO SECO Nº 2</td>\n",
              "      <td>Santa Fe</td>\n",
              "      <td>Protocolo 21</td>\n",
              "      <td>2007.0</td>\n",
              "      <td>...</td>\n",
              "      <td>Privado</td>\n",
              "      <td>Física</td>\n",
              "      <td>ALVAREZ</td>\n",
              "      <td>SANTA FE</td>\n",
              "      <td>No identificado</td>\n",
              "      <td>1974</td>\n",
              "      <td>ARGENTINA</td>\n",
              "      <td>100</td>\n",
              "      <td>82</td>\n",
              "      <td>ARG</td>\n",
              "    </tr>\n",
              "    <tr>\n",
              "      <th>2</th>\n",
              "      <td>DENUNCIA DE ROBO O HURTO / RETENCION INDEBIDA</td>\n",
              "      <td>2023-10-03</td>\n",
              "      <td>3</td>\n",
              "      <td>2000-11-07</td>\n",
              "      <td>1</td>\n",
              "      <td>22009</td>\n",
              "      <td>OJO DE AGUA</td>\n",
              "      <td>Santiago del Estero</td>\n",
              "      <td>Nacional</td>\n",
              "      <td>2000.0</td>\n",
              "      <td>...</td>\n",
              "      <td>Privado</td>\n",
              "      <td>Física</td>\n",
              "      <td>SUMAMPA</td>\n",
              "      <td>SGO.DEL ESTERO</td>\n",
              "      <td>No identificado</td>\n",
              "      <td>1992</td>\n",
              "      <td>ARGENTINA</td>\n",
              "      <td>100</td>\n",
              "      <td>86</td>\n",
              "      <td>ARG</td>\n",
              "    </tr>\n",
              "    <tr>\n",
              "      <th>3</th>\n",
              "      <td>DENUNCIA DE ROBO O HURTO / RETENCION INDEBIDA</td>\n",
              "      <td>2023-10-06</td>\n",
              "      <td>6</td>\n",
              "      <td>1982-07-20</td>\n",
              "      <td>1</td>\n",
              "      <td>21048</td>\n",
              "      <td>SAN LORENZO Nº 2</td>\n",
              "      <td>Santa Fe</td>\n",
              "      <td>Nacional</td>\n",
              "      <td>1982.0</td>\n",
              "      <td>...</td>\n",
              "      <td>Privado</td>\n",
              "      <td>Física</td>\n",
              "      <td>CAPITAN BERMUDEZ</td>\n",
              "      <td>SANTA FE</td>\n",
              "      <td>Masculino</td>\n",
              "      <td>1980</td>\n",
              "      <td>ARGENTINA</td>\n",
              "      <td>100</td>\n",
              "      <td>82</td>\n",
              "      <td>ARG</td>\n",
              "    </tr>\n",
              "    <tr>\n",
              "      <th>4</th>\n",
              "      <td>DENUNCIA DE ROBO O HURTO / RETENCION INDEBIDA</td>\n",
              "      <td>2023-10-23</td>\n",
              "      <td>23</td>\n",
              "      <td>1994-03-01</td>\n",
              "      <td>1</td>\n",
              "      <td>21057</td>\n",
              "      <td>ROSARIO Nº 14</td>\n",
              "      <td>Santa Fe</td>\n",
              "      <td>Importado</td>\n",
              "      <td>1994.0</td>\n",
              "      <td>...</td>\n",
              "      <td>Privado</td>\n",
              "      <td>Física</td>\n",
              "      <td>ROSARIO</td>\n",
              "      <td>SANTA FE</td>\n",
              "      <td>Femenino</td>\n",
              "      <td>1970</td>\n",
              "      <td>ARGENTINA</td>\n",
              "      <td>100</td>\n",
              "      <td>82</td>\n",
              "      <td>ARG</td>\n",
              "    </tr>\n",
              "    <tr>\n",
              "      <th>...</th>\n",
              "      <td>...</td>\n",
              "      <td>...</td>\n",
              "      <td>...</td>\n",
              "      <td>...</td>\n",
              "      <td>...</td>\n",
              "      <td>...</td>\n",
              "      <td>...</td>\n",
              "      <td>...</td>\n",
              "      <td>...</td>\n",
              "      <td>...</td>\n",
              "      <td>...</td>\n",
              "      <td>...</td>\n",
              "      <td>...</td>\n",
              "      <td>...</td>\n",
              "      <td>...</td>\n",
              "      <td>...</td>\n",
              "      <td>...</td>\n",
              "      <td>...</td>\n",
              "      <td>...</td>\n",
              "      <td>...</td>\n",
              "      <td>...</td>\n",
              "    </tr>\n",
              "    <tr>\n",
              "      <th>75</th>\n",
              "      <td>DENUNCIA DE ROBO O HURTO / RETENCION INDEBIDA</td>\n",
              "      <td>2023-10-04</td>\n",
              "      <td>4</td>\n",
              "      <td>2012-01-26</td>\n",
              "      <td>1</td>\n",
              "      <td>1241</td>\n",
              "      <td>MAR DEL PLATA Nº 10</td>\n",
              "      <td>Buenos Aires</td>\n",
              "      <td>Protocolo 21</td>\n",
              "      <td>2012.0</td>\n",
              "      <td>...</td>\n",
              "      <td>Privado</td>\n",
              "      <td>Física</td>\n",
              "      <td>MAR DEL PLATA</td>\n",
              "      <td>BUENOS AIRES</td>\n",
              "      <td>Masculino</td>\n",
              "      <td>1980</td>\n",
              "      <td>ARGENTINA</td>\n",
              "      <td>100</td>\n",
              "      <td>6</td>\n",
              "      <td>ARG</td>\n",
              "    </tr>\n",
              "    <tr>\n",
              "      <th>76</th>\n",
              "      <td>DENUNCIA DE ROBO O HURTO / RETENCION INDEBIDA</td>\n",
              "      <td>2023-10-04</td>\n",
              "      <td>4</td>\n",
              "      <td>2019-03-19</td>\n",
              "      <td>1</td>\n",
              "      <td>1046</td>\n",
              "      <td>LA PLATA Nº 04</td>\n",
              "      <td>Buenos Aires</td>\n",
              "      <td>Importado</td>\n",
              "      <td>2018.0</td>\n",
              "      <td>...</td>\n",
              "      <td>Privado</td>\n",
              "      <td>Jurídica</td>\n",
              "      <td>MANUEL B. GONNET</td>\n",
              "      <td>BUENOS AIRES</td>\n",
              "      <td>No aplica</td>\n",
              "      <td>2020</td>\n",
              "      <td>No aplica</td>\n",
              "      <td>100</td>\n",
              "      <td>6</td>\n",
              "      <td>ARG</td>\n",
              "    </tr>\n",
              "    <tr>\n",
              "      <th>77</th>\n",
              "      <td>DENUNCIA DE ROBO O HURTO / RETENCION INDEBIDA</td>\n",
              "      <td>2023-10-25</td>\n",
              "      <td>25</td>\n",
              "      <td>2017-06-29</td>\n",
              "      <td>1</td>\n",
              "      <td>1309</td>\n",
              "      <td>MERLO Nº 5</td>\n",
              "      <td>Buenos Aires</td>\n",
              "      <td>Protocolo 21</td>\n",
              "      <td>2017.0</td>\n",
              "      <td>...</td>\n",
              "      <td>Privado</td>\n",
              "      <td>Física</td>\n",
              "      <td>LIBERTAD</td>\n",
              "      <td>BUENOS AIRES</td>\n",
              "      <td>Masculino</td>\n",
              "      <td>1997</td>\n",
              "      <td>ARGENTINA</td>\n",
              "      <td>100</td>\n",
              "      <td>6</td>\n",
              "      <td>ARG</td>\n",
              "    </tr>\n",
              "    <tr>\n",
              "      <th>78</th>\n",
              "      <td>DENUNCIA DE ROBO O HURTO / RETENCION INDEBIDA</td>\n",
              "      <td>2023-10-05</td>\n",
              "      <td>5</td>\n",
              "      <td>2009-01-06</td>\n",
              "      <td>1</td>\n",
              "      <td>15002</td>\n",
              "      <td>SAN MARTIN DE LOS ANDES</td>\n",
              "      <td>Neuquén</td>\n",
              "      <td>Importado</td>\n",
              "      <td>2009.0</td>\n",
              "      <td>...</td>\n",
              "      <td>Privado</td>\n",
              "      <td>Física</td>\n",
              "      <td>JUNÍN_DE_LOS_ANDES</td>\n",
              "      <td>NEUQUEN</td>\n",
              "      <td>Masculino</td>\n",
              "      <td>1987</td>\n",
              "      <td>ARGENTINA</td>\n",
              "      <td>100</td>\n",
              "      <td>58</td>\n",
              "      <td>ARG</td>\n",
              "    </tr>\n",
              "    <tr>\n",
              "      <th>79</th>\n",
              "      <td>DENUNCIA DE ROBO O HURTO / RETENCION INDEBIDA</td>\n",
              "      <td>2023-10-31</td>\n",
              "      <td>31</td>\n",
              "      <td>2013-06-17</td>\n",
              "      <td>1</td>\n",
              "      <td>2081</td>\n",
              "      <td>CAPITAL FEDERAL Nº 081</td>\n",
              "      <td>Ciudad Autónoma de Bs.As.</td>\n",
              "      <td>Protocolo 21</td>\n",
              "      <td>2013.0</td>\n",
              "      <td>...</td>\n",
              "      <td>Privado</td>\n",
              "      <td>Física</td>\n",
              "      <td>C.AUTONOMA DE BS.AS</td>\n",
              "      <td>C.AUTONOMA DE BS.AS</td>\n",
              "      <td>Masculino</td>\n",
              "      <td>1973</td>\n",
              "      <td>ARGENTINA</td>\n",
              "      <td>100</td>\n",
              "      <td>2</td>\n",
              "      <td>ARG</td>\n",
              "    </tr>\n",
              "  </tbody>\n",
              "</table>\n",
              "<p>80 rows × 28 columns</p>\n",
              "</div>\n",
              "    <div class=\"colab-df-buttons\">\n",
              "\n",
              "  <div class=\"colab-df-container\">\n",
              "    <button class=\"colab-df-convert\" onclick=\"convertToInteractive('df-4d07161d-b228-4733-b5a9-78b36650b788')\"\n",
              "            title=\"Convert this dataframe to an interactive table.\"\n",
              "            style=\"display:none;\">\n",
              "\n",
              "  <svg xmlns=\"http://www.w3.org/2000/svg\" height=\"24px\" viewBox=\"0 -960 960 960\">\n",
              "    <path d=\"M120-120v-720h720v720H120Zm60-500h600v-160H180v160Zm220 220h160v-160H400v160Zm0 220h160v-160H400v160ZM180-400h160v-160H180v160Zm440 0h160v-160H620v160ZM180-180h160v-160H180v160Zm440 0h160v-160H620v160Z\"/>\n",
              "  </svg>\n",
              "    </button>\n",
              "\n",
              "  <style>\n",
              "    .colab-df-container {\n",
              "      display:flex;\n",
              "      gap: 12px;\n",
              "    }\n",
              "\n",
              "    .colab-df-convert {\n",
              "      background-color: #E8F0FE;\n",
              "      border: none;\n",
              "      border-radius: 50%;\n",
              "      cursor: pointer;\n",
              "      display: none;\n",
              "      fill: #1967D2;\n",
              "      height: 32px;\n",
              "      padding: 0 0 0 0;\n",
              "      width: 32px;\n",
              "    }\n",
              "\n",
              "    .colab-df-convert:hover {\n",
              "      background-color: #E2EBFA;\n",
              "      box-shadow: 0px 1px 2px rgba(60, 64, 67, 0.3), 0px 1px 3px 1px rgba(60, 64, 67, 0.15);\n",
              "      fill: #174EA6;\n",
              "    }\n",
              "\n",
              "    .colab-df-buttons div {\n",
              "      margin-bottom: 4px;\n",
              "    }\n",
              "\n",
              "    [theme=dark] .colab-df-convert {\n",
              "      background-color: #3B4455;\n",
              "      fill: #D2E3FC;\n",
              "    }\n",
              "\n",
              "    [theme=dark] .colab-df-convert:hover {\n",
              "      background-color: #434B5C;\n",
              "      box-shadow: 0px 1px 3px 1px rgba(0, 0, 0, 0.15);\n",
              "      filter: drop-shadow(0px 1px 2px rgba(0, 0, 0, 0.3));\n",
              "      fill: #FFFFFF;\n",
              "    }\n",
              "  </style>\n",
              "\n",
              "    <script>\n",
              "      const buttonEl =\n",
              "        document.querySelector('#df-4d07161d-b228-4733-b5a9-78b36650b788 button.colab-df-convert');\n",
              "      buttonEl.style.display =\n",
              "        google.colab.kernel.accessAllowed ? 'block' : 'none';\n",
              "\n",
              "      async function convertToInteractive(key) {\n",
              "        const element = document.querySelector('#df-4d07161d-b228-4733-b5a9-78b36650b788');\n",
              "        const dataTable =\n",
              "          await google.colab.kernel.invokeFunction('convertToInteractive',\n",
              "                                                    [key], {});\n",
              "        if (!dataTable) return;\n",
              "\n",
              "        const docLinkHtml = 'Like what you see? Visit the ' +\n",
              "          '<a target=\"_blank\" href=https://colab.research.google.com/notebooks/data_table.ipynb>data table notebook</a>'\n",
              "          + ' to learn more about interactive tables.';\n",
              "        element.innerHTML = '';\n",
              "        dataTable['output_type'] = 'display_data';\n",
              "        await google.colab.output.renderOutput(dataTable, element);\n",
              "        const docLink = document.createElement('div');\n",
              "        docLink.innerHTML = docLinkHtml;\n",
              "        element.appendChild(docLink);\n",
              "      }\n",
              "    </script>\n",
              "  </div>\n",
              "\n",
              "\n",
              "<div id=\"df-c88be4a6-dc7d-4462-9ad8-17c56ca06c27\">\n",
              "  <button class=\"colab-df-quickchart\" onclick=\"quickchart('df-c88be4a6-dc7d-4462-9ad8-17c56ca06c27')\"\n",
              "            title=\"Suggest charts\"\n",
              "            style=\"display:none;\">\n",
              "\n",
              "<svg xmlns=\"http://www.w3.org/2000/svg\" height=\"24px\"viewBox=\"0 0 24 24\"\n",
              "     width=\"24px\">\n",
              "    <g>\n",
              "        <path d=\"M19 3H5c-1.1 0-2 .9-2 2v14c0 1.1.9 2 2 2h14c1.1 0 2-.9 2-2V5c0-1.1-.9-2-2-2zM9 17H7v-7h2v7zm4 0h-2V7h2v10zm4 0h-2v-4h2v4z\"/>\n",
              "    </g>\n",
              "</svg>\n",
              "  </button>\n",
              "\n",
              "<style>\n",
              "  .colab-df-quickchart {\n",
              "      --bg-color: #E8F0FE;\n",
              "      --fill-color: #1967D2;\n",
              "      --hover-bg-color: #E2EBFA;\n",
              "      --hover-fill-color: #174EA6;\n",
              "      --disabled-fill-color: #AAA;\n",
              "      --disabled-bg-color: #DDD;\n",
              "  }\n",
              "\n",
              "  [theme=dark] .colab-df-quickchart {\n",
              "      --bg-color: #3B4455;\n",
              "      --fill-color: #D2E3FC;\n",
              "      --hover-bg-color: #434B5C;\n",
              "      --hover-fill-color: #FFFFFF;\n",
              "      --disabled-bg-color: #3B4455;\n",
              "      --disabled-fill-color: #666;\n",
              "  }\n",
              "\n",
              "  .colab-df-quickchart {\n",
              "    background-color: var(--bg-color);\n",
              "    border: none;\n",
              "    border-radius: 50%;\n",
              "    cursor: pointer;\n",
              "    display: none;\n",
              "    fill: var(--fill-color);\n",
              "    height: 32px;\n",
              "    padding: 0;\n",
              "    width: 32px;\n",
              "  }\n",
              "\n",
              "  .colab-df-quickchart:hover {\n",
              "    background-color: var(--hover-bg-color);\n",
              "    box-shadow: 0 1px 2px rgba(60, 64, 67, 0.3), 0 1px 3px 1px rgba(60, 64, 67, 0.15);\n",
              "    fill: var(--button-hover-fill-color);\n",
              "  }\n",
              "\n",
              "  .colab-df-quickchart-complete:disabled,\n",
              "  .colab-df-quickchart-complete:disabled:hover {\n",
              "    background-color: var(--disabled-bg-color);\n",
              "    fill: var(--disabled-fill-color);\n",
              "    box-shadow: none;\n",
              "  }\n",
              "\n",
              "  .colab-df-spinner {\n",
              "    border: 2px solid var(--fill-color);\n",
              "    border-color: transparent;\n",
              "    border-bottom-color: var(--fill-color);\n",
              "    animation:\n",
              "      spin 1s steps(1) infinite;\n",
              "  }\n",
              "\n",
              "  @keyframes spin {\n",
              "    0% {\n",
              "      border-color: transparent;\n",
              "      border-bottom-color: var(--fill-color);\n",
              "      border-left-color: var(--fill-color);\n",
              "    }\n",
              "    20% {\n",
              "      border-color: transparent;\n",
              "      border-left-color: var(--fill-color);\n",
              "      border-top-color: var(--fill-color);\n",
              "    }\n",
              "    30% {\n",
              "      border-color: transparent;\n",
              "      border-left-color: var(--fill-color);\n",
              "      border-top-color: var(--fill-color);\n",
              "      border-right-color: var(--fill-color);\n",
              "    }\n",
              "    40% {\n",
              "      border-color: transparent;\n",
              "      border-right-color: var(--fill-color);\n",
              "      border-top-color: var(--fill-color);\n",
              "    }\n",
              "    60% {\n",
              "      border-color: transparent;\n",
              "      border-right-color: var(--fill-color);\n",
              "    }\n",
              "    80% {\n",
              "      border-color: transparent;\n",
              "      border-right-color: var(--fill-color);\n",
              "      border-bottom-color: var(--fill-color);\n",
              "    }\n",
              "    90% {\n",
              "      border-color: transparent;\n",
              "      border-bottom-color: var(--fill-color);\n",
              "    }\n",
              "  }\n",
              "</style>\n",
              "\n",
              "  <script>\n",
              "    async function quickchart(key) {\n",
              "      const quickchartButtonEl =\n",
              "        document.querySelector('#' + key + ' button');\n",
              "      quickchartButtonEl.disabled = true;  // To prevent multiple clicks.\n",
              "      quickchartButtonEl.classList.add('colab-df-spinner');\n",
              "      try {\n",
              "        const charts = await google.colab.kernel.invokeFunction(\n",
              "            'suggestCharts', [key], {});\n",
              "      } catch (error) {\n",
              "        console.error('Error during call to suggestCharts:', error);\n",
              "      }\n",
              "      quickchartButtonEl.classList.remove('colab-df-spinner');\n",
              "      quickchartButtonEl.classList.add('colab-df-quickchart-complete');\n",
              "    }\n",
              "    (() => {\n",
              "      let quickchartButtonEl =\n",
              "        document.querySelector('#df-c88be4a6-dc7d-4462-9ad8-17c56ca06c27 button');\n",
              "      quickchartButtonEl.style.display =\n",
              "        google.colab.kernel.accessAllowed ? 'block' : 'none';\n",
              "    })();\n",
              "  </script>\n",
              "</div>\n",
              "\n",
              "    </div>\n",
              "  </div>\n"
            ],
            "application/vnd.google.colaboratory.intrinsic+json": {
              "type": "dataframe",
              "variable_name": "DF3"
            }
          },
          "metadata": {},
          "execution_count": 7
        }
      ]
    },
    {
      "cell_type": "code",
      "source": [
        "#Se chequea a modo de corroboracion el status de los valores nulos\n",
        "DF3.isna().sum()"
      ],
      "metadata": {
        "colab": {
          "base_uri": "https://localhost:8080/"
        },
        "id": "4BcB88cw_yJF",
        "outputId": "62043225-8672-451b-8f10-7bea1632cc6a"
      },
      "execution_count": 8,
      "outputs": [
        {
          "output_type": "execute_result",
          "data": {
            "text/plain": [
              "tramite_tipo                      0\n",
              "tramite_fecha                     0\n",
              "dia                               0\n",
              "fecha_inscripcion_inicial         0\n",
              "q_casos                           0\n",
              "registro_seccional_codigo         0\n",
              "registro_seccional_descripcion    0\n",
              "registro_seccional_provincia      0\n",
              "automotor_origen                  0\n",
              "automotor_anio_modelo             0\n",
              "EDAD                              0\n",
              "automotor_tipo_codigo             0\n",
              "automotor_tipo_descripcion        0\n",
              "automotor_marca_codigo            0\n",
              "automotor_marca_descripcion       0\n",
              "automotor_modelo_codigo           0\n",
              "automotor_modelo_descripcion      0\n",
              "automotor_uso_codigo              0\n",
              "automotor_uso_descripcion         0\n",
              "titular_tipo_persona              0\n",
              "titular_domicilio_localidad       0\n",
              "titular_domicilio_provincia       0\n",
              "titular_genero                    0\n",
              "titular_anio_nacimiento           0\n",
              "titular_pais_nacimiento           0\n",
              "titular_porcentaje_titularidad    0\n",
              "titular_domicilio_provincia_id    0\n",
              "titular_pais_nacimiento_id        0\n",
              "dtype: int64"
            ]
          },
          "metadata": {},
          "execution_count": 8
        }
      ]
    },
    {
      "cell_type": "markdown",
      "source": [
        "# ¿Existe algun tipo de inclinación en cuanto a la frecuncia de los casos de acuerdo a las fechas registradas?\n",
        "\n",
        "\n",
        "Se pudo obtener que en cuanto a frecuencia de casos, hay una marcada tendencia en ciertos días de la semana donde se elevan abruptamente la cantidad de casos analizados. Luego del último pico, en la semana final, comienzan a decaer los casos-.\n"
      ],
      "metadata": {
        "id": "2GU03Cma_7DF"
      }
    },
    {
      "cell_type": "code",
      "source": [
        "cantidades = DF3['tramite_fecha'].value_counts().sort_index()\n",
        "\n",
        "fechas = cantidades.index\n",
        "cantidad_casos = cantidades.values\n",
        "\n",
        "plt.figure(figsize=(12, 6))\n",
        "plt.plot(fechas, cantidad_casos, label='Distribución de Robos', marker='o', linestyle='-')\n",
        "\n",
        "plt.title('Distribución de Robos por Fecha', fontsize=16)\n",
        "plt.xlabel('Fecha', fontsize=14)\n",
        "plt.ylabel('Cantidad de Casos', fontsize=14)\n",
        "plt.xticks(rotation=45, ha=\"right\")\n",
        "plt.legend()\n",
        "\n",
        "\n",
        "plt.show()"
      ],
      "metadata": {
        "id": "Ml1UEsrm_76t",
        "outputId": "0864fd31-0849-4cc4-c1aa-993b16a7e844",
        "colab": {
          "base_uri": "https://localhost:8080/",
          "height": 625
        }
      },
      "execution_count": 9,
      "outputs": [
        {
          "output_type": "display_data",
          "data": {
            "text/plain": [
              "<Figure size 1200x600 with 1 Axes>"
            ],
            "image/png": "[encoded data removed]"
          },
          "metadata": {}
        }
      ]
    },
    {
      "cell_type": "markdown",
      "source": [
        "¿El año de la unidad es de interés para determinar una frecuencia estimada?\n",
        "\n",
        "Se advierte que la mayor cantidad de robos se dan en unidades modelos 2010-2013, con una tendencia un poco menor hacia las unidades modelo 1996-2000 pero con menor magnitud en cuanto a cantidades con respecto a las de 2010-2023 Siendo Volkswagen y Chevrolet las unidades más robadas ( sin determinar por año) las mismas."
      ],
      "metadata": {
        "id": "qfEA6xhkBAP_"
      }
    },
    {
      "cell_type": "code",
      "source": [
        "fig, ax = plt.subplots(figsize=(8,4))\n",
        "\n",
        "qcasos = pd.value_counts(DF3['automotor_anio_modelo'])\n",
        "ax.bar(qcasos.index, qcasos)\n",
        "ax.set_xlim(1980,DF3['automotor_anio_modelo'].max())\n",
        "ax.set_title('Tipo de unidades robadas por año/modelo')\n",
        "ax.set_ylabel('Cantidad de robos', color=\"Red\",fontstyle='italic')\n",
        "ax.set_xlabel('Año Modelo',color=\"Red\",fontstyle='italic')"
      ],
      "metadata": {
        "colab": {
          "base_uri": "https://localhost:8080/",
          "height": 427
        },
        "id": "Z69D2HA3BBBc",
        "outputId": "e813f2da-9155-4385-fd09-7f513227c20a"
      },
      "execution_count": 10,
      "outputs": [
        {
          "output_type": "execute_result",
          "data": {
            "text/plain": [
              "Text(0.5, 0, 'Año Modelo')"
            ]
          },
          "metadata": {},
          "execution_count": 10
        },
        {
          "output_type": "display_data",
          "data": {
            "text/plain": [
              "<Figure size 800x400 with 1 Axes>"
            ],
            "image/png": "[encoded data removed]"
          },
          "metadata": {}
        }
      ]
    },
    {
      "cell_type": "markdown",
      "source": [
        "¿Hay alguna marca que sea de incidencia en cuanto a las unidades robadas?\n",
        "Si bien Volkswagen y Chevrolet son las marcas más robadas, no hay una tendencia muy inclinada o representativa hacia ellas con el resto de las analizadas dentro del top 6. Pero sí, podemos concluir que de la muestra tomada Volkswagen es la marca que mayor frecuencia de robos presenta, desprendiendose del resto por mas del 7% de diferencia"
      ],
      "metadata": {
        "id": "y76m4IaRBIDd"
      }
    },
    {
      "cell_type": "code",
      "source": [
        "# Se visualiza en esta simple tabla el top 10 de marcas con más robos\n",
        "DF3.groupby('automotor_marca_descripcion').size().nlargest(10)"
      ],
      "metadata": {
        "colab": {
          "base_uri": "https://localhost:8080/"
        },
        "id": "zLBNkozWBIw7",
        "outputId": "6a1446b1-e109-4a3e-f1f5-af81327637d9"
      },
      "execution_count": 11,
      "outputs": [
        {
          "output_type": "execute_result",
          "data": {
            "text/plain": [
              "automotor_marca_descripcion\n",
              "VOLKSWAGEN       730\n",
              "CHEVROLET        516\n",
              "RENAULT          484\n",
              "FIAT             467\n",
              "FORD             400\n",
              "PEUGEOT          391\n",
              "TOYOTA           176\n",
              "CITROEN          134\n",
              "MERCEDES BENZ     40\n",
              "NISSAN            40\n",
              "dtype: int64"
            ]
          },
          "metadata": {},
          "execution_count": 11
        }
      ]
    },
    {
      "cell_type": "code",
      "source": [
        "# Se grafica el top 6 de la tabla de más arriba\n",
        "\n",
        "data_top = DF3['automotor_marca_descripcion']\n",
        "cars = data_top.value_counts().head(6)\n",
        "\n",
        "fig, ax = plt.subplots(figsize=(10, 7))\n",
        "ax.pie(cars, labels=cars.index, autopct='%1.1f%%', startangle=90)\n",
        "ax.axis('equal')\n",
        "\n",
        "plt.title('Top 6 Marcas de Automóviles')\n",
        "plt.show()"
      ],
      "metadata": {
        "colab": {
          "base_uri": "https://localhost:8080/",
          "height": 605
        },
        "id": "kyAnQFsQBNHs",
        "outputId": "9c6477c8-c8a2-4794-f602-c3ef77093cd6"
      },
      "execution_count": 12,
      "outputs": [
        {
          "output_type": "display_data",
          "data": {
            "text/plain": [
              "<Figure size 1000x700 with 1 Axes>"
            ],
            "image/png": "[encoded data removed]"
          },
          "metadata": {}
        }
      ]
    },
    {
      "cell_type": "code",
      "source": [
        "# Se crea la tabla pivot para poder  filtrar los datos que utilizaré\n",
        "pivote = DF3.pivot_table(\n",
        "    index=\"automotor_marca_descripcion\",\n",
        "    columns=\"registro_seccional_provincia\",\n",
        "    values=\"q_casos\",\n",
        "    fill_value=0,\n",
        "    aggfunc=\"sum\"\n",
        ")\n",
        "# Se Selecciona el gráfico , con el color requerido y las anotaciones dentro de las celdas\n",
        "top_marca_provincia = pivote.sum(axis=1).nlargest(10).index\n",
        "pivote_top = pivote.loc[top_marca_provincia]\n",
        "plt.figure(figsize=(12, 8))\n",
        "sns.heatmap(\n",
        "    pivote_top,\n",
        "    cmap=\"viridis\",\n",
        "    fmt=\"d\",\n",
        "    annot=True,\n",
        "    linewidths=1,\n",
        "    cbar_kws={'label': 'Suma de casos'},\n",
        ")\n",
        "\n",
        "plt.title('Mapa de Calor: Top 10 - Casos por Marca y Provincia', fontsize=16)\n",
        "plt.xlabel('Provincia', fontsize=14)\n",
        "plt.ylabel('Marca de Automóvil', fontsize=14)\n",
        "\n",
        "plt.show()"
      ],
      "metadata": {
        "colab": {
          "base_uri": "https://localhost:8080/",
          "height": 904
        },
        "id": "ewwbvqZtBeaW",
        "outputId": "c2372299-a160-4174-e186-3a6fd442c848"
      },
      "execution_count": 13,
      "outputs": [
        {
          "output_type": "display_data",
          "data": {
            "text/plain": [
              "<Figure size 1200x800 with 2 Axes>"
            ],
            "image/png": "[encoded data removed]"
          },
          "metadata": {}
        }
      ]
    },
    {
      "cell_type": "code",
      "source": [
        "# Se settean las medidas y estilo del gráfico de  barras, junto con la variable a utilizar\n",
        "sns.set(style=\"whitegrid\")\n",
        "plt.figure(figsize=(18, 6))\n",
        "sns.countplot(x=DF3['EDAD'], palette=\"viridis\")\n",
        "# Se le aplica un límite para las edades a visualizar\n",
        "plt.xlim(12,80)\n",
        "plt.title('Distribución de Robos según la Edad', fontsize=18)\n",
        "plt.xlabel('Edad', fontsize=14)\n",
        "plt.ylabel('Cantidad de Robos', fontsize=14)\n",
        "plt.xticks(rotation=90, ha=\"right\")\n",
        "\n",
        "plt.show()"
      ],
      "metadata": {
        "colab": {
          "base_uri": "https://localhost:8080/",
          "height": 646
        },
        "id": "5_EV7jw9Bh0M",
        "outputId": "0ad30e9b-2009-405e-f2c3-3feb816f5fe8"
      },
      "execution_count": 14,
      "outputs": [
        {
          "output_type": "stream",
          "name": "stderr",
          "text": [
            "<ipython-input-14-ba8d37484e74>:4: FutureWarning: \n",
            "\n",
            "Passing `palette` without assigning `hue` is deprecated and will be removed in v0.14.0. Assign the `x` variable to `hue` and set `legend=False` for the same effect.\n",
            "\n",
            "  sns.countplot(x=DF3['EDAD'], palette=\"viridis\")\n"
          ]
        },
        {
          "output_type": "display_data",
          "data": {
            "text/plain": [
              "<Figure size 1800x600 with 1 Axes>"
            ],
            "image/png": "[encoded data removed]"
          },
          "metadata": {}
        }
      ]
    },
    {
      "cell_type": "markdown",
      "source": [
        "Exploratory Data Analysis\n",
        "Luego de analizada la información obtenida del Dataset, se llega al siguiente análisis:\n",
        "Se verifica q la frecuencia posee picos de mayor cantidad de sucesos registrados la primer semana y media de mes , se mantiene constante a continuacion, con su pico máximo el día 20\n",
        "\n",
        "Existes dos grandes grupos de unidades robada segun el año de la misma, grupo1 = 1994-2000 y grupo2= 2006 a 2013. Es decir hay dos grupos de tendencia con mayor frecuencia de robo, los más buscados a la hora de cometer el delito.\n",
        "\n",
        "Dentro del Top 6 de marcas mas robadas, se desprende con un % por encima del resto de las del top Volkswagen , como la marca más robada.\n",
        "\n",
        "A su vez , ésta marca más robada , tiene su epicentro delictivo en la ciudad de Buenos Aires , registrando el mayor volumen por marca y ciudad de toda la muestra. Siguiendo la coherencia de mayor volumen de acuerdo a la densidad poblacional.\n",
        "\n",
        "El promedio de edad de quienes sufren robos es de 43/44 años, pero la distribucion de robos por edad , no llega a tener una distribucion normal, sino que tiene una inclinación un poco más para la izquierda la campana."
      ],
      "metadata": {
        "id": "-TIEWWeTBlp2"
      }
    },
    {
      "cell_type": "code",
      "source": [
        "#Se utiliza la siguiente tabla a modo de conocer rapidamente los promedios  en funcion a las edades y días registrados\n",
        "\n",
        "subset_df = DF3[['dia', 'EDAD']]\n",
        "Estad = subset_df.describe().loc[['mean', '50%','count']]\n",
        "\n",
        "print(Estad)"
      ],
      "metadata": {
        "colab": {
          "base_uri": "https://localhost:8080/"
        },
        "id": "h4zHNUVrBnzm",
        "outputId": "9d13cfe7-f982-4787-f02a-2a5c67f0f668"
      },
      "execution_count": 15,
      "outputs": [
        {
          "output_type": "stream",
          "name": "stdout",
          "text": [
            "               dia         EDAD\n",
            "mean     15.714881    44.403387\n",
            "50%      17.000000    43.000000\n",
            "count  3602.000000  3602.000000\n"
          ]
        }
      ]
    },
    {
      "cell_type": "markdown",
      "source": [
        "Aplicacion de un primer acercamiento a un modelo"
      ],
      "metadata": {
        "id": "H9I57wcVByi7"
      }
    },
    {
      "cell_type": "code",
      "source": [
        "numeric_features = ['EDAD']\n",
        "\n",
        "pd.set_option('display.expand_frame_repr', False)\n",
        "\n",
        "categorical_features = ['automotor_marca_descripcion', 'automotor_anio_modelo', 'automotor_modelo_descripcion', 'tramite_fecha']\n",
        "\n",
        "train_data, test_data = train_test_split(DF3, test_size=0.2, random_state=42)\n",
        "\n",
        "\n",
        "preprocessor = ColumnTransformer(\n",
        "    transformers=[\n",
        "        ('num', 'passthrough', numeric_features),\n",
        "        ('cat', OneHotEncoder(drop='first', handle_unknown='ignore'), categorical_features)\n",
        "    ])\n",
        "\n",
        "model = Pipeline(steps=[\n",
        "    ('preprocessor', preprocessor),\n",
        "    ('classifier', LogisticRegression(max_iter=1000))\n",
        "])\n",
        "\n",
        "# Defino las variables independientes (X) y la variable dependiente (y)\n",
        "X_train = train_data.drop('tramite_tipo', axis=1)\n",
        "y_train = train_data['tramite_tipo']\n",
        "\n",
        "\n",
        "# Entreno el modelo\n",
        "try:\n",
        "    model.fit(X_train, y_train)\n",
        "except Exception as e:\n",
        "    print(\"Error al entrenar el modelo:\", e)\n",
        "\n",
        "X_test = test_data.drop('tramite_tipo', axis=1)\n",
        "y_test = test_data['tramite_tipo']\n",
        "\n",
        "predictions = model.predict(X_test)\n",
        "\n",
        "accuracy = model.score(X_test, y_test)\n",
        "print(f'Precisión del modelo en el conjunto de prueba: {accuracy:.2f}')\n"
      ],
      "metadata": {
        "colab": {
          "base_uri": "https://localhost:8080/"
        },
        "id": "s2OH7J26BrrW",
        "outputId": "01098774-1c6b-479c-bca5-16fcb1cbe76c"
      },
      "execution_count": 16,
      "outputs": [
        {
          "output_type": "stream",
          "name": "stdout",
          "text": [
            "Precisión del modelo en el conjunto de prueba: 0.96\n"
          ]
        },
        {
          "output_type": "stream",
          "name": "stderr",
          "text": [
            "/usr/local/lib/python3.10/dist-packages/sklearn/preprocessing/_encoders.py:202: UserWarning: Found unknown categories in columns [0, 1, 2] during transform. These unknown categories will be encoded as all zeros\n",
            "  warnings.warn(\n",
            "/usr/local/lib/python3.10/dist-packages/sklearn/preprocessing/_encoders.py:202: UserWarning: Found unknown categories in columns [0, 1, 2] during transform. These unknown categories will be encoded as all zeros\n",
            "  warnings.warn(\n"
          ]
        }
      ]
    },
    {
      "cell_type": "code",
      "source": [
        "from sklearn.metrics import accuracy_score, precision_score, recall_score, f1_score, confusion_matrix\n",
        "\n",
        "predictions = model.predict(X_test)\n",
        "\n",
        "# Calcula métricas de clasificación\n",
        "accuracy = accuracy_score(y_test, predictions)\n",
        "precision = precision_score(y_test, predictions, pos_label='DENUNCIA DE ROBO O HURTO / RETENCION INDEBIDA')\n",
        "recall = recall_score(y_test, predictions, pos_label='DENUNCIA DE ROBO O HURTO / RETENCION INDEBIDA')\n",
        "f1 = f1_score(y_test, predictions, pos_label='DENUNCIA DE ROBO O HURTO / RETENCION INDEBIDA')\n",
        "conf_matrix = confusion_matrix(y_test, predictions, labels=['COMUNICACIÓN DE RECUPERO', 'DENUNCIA DE ROBO O HURTO / RETENCION INDEBIDA'])\n",
        "\n",
        "\n",
        "print(f'Accuracy: {accuracy:.2f}')\n",
        "print(f'Precision: {precision:.2f}')\n",
        "print(f'Recall: {recall:.2f}')\n",
        "print(f'F1-score: {f1:.2f}')\n",
        "print('Confusion Matrix:')\n",
        "print(conf_matrix)"
      ],
      "metadata": {
        "colab": {
          "base_uri": "https://localhost:8080/"
        },
        "id": "dCENSyVRBu1U",
        "outputId": "4e8ef130-c2b4-4d5c-dde5-e3865a8f2fc6"
      },
      "execution_count": 17,
      "outputs": [
        {
          "output_type": "stream",
          "name": "stdout",
          "text": [
            "Accuracy: 0.96\n",
            "Precision: 0.96\n",
            "Recall: 1.00\n",
            "F1-score: 0.98\n",
            "Confusion Matrix:\n",
            "[[  0  27]\n",
            " [  0 694]]\n"
          ]
        },
        {
          "output_type": "stream",
          "name": "stderr",
          "text": [
            "/usr/local/lib/python3.10/dist-packages/sklearn/preprocessing/_encoders.py:202: UserWarning: Found unknown categories in columns [0, 1, 2] during transform. These unknown categories will be encoded as all zeros\n",
            "  warnings.warn(\n"
          ]
        }
      ]
    },
    {
      "cell_type": "code",
      "source": [
        "from sklearn.metrics import confusion_matrix\n",
        "#Matriz de confusion\n",
        "conf_matrix = confusion_matrix(y_test, predictions, labels=['COMUNICACIÓN DE RECUPERO', 'DENUNCIA DE ROBO O HURTO / RETENCION INDEBIDA'])\n",
        "ax = sns.heatmap(conf_matrix, annot=True, cmap='Blues')\n",
        "ax.set_title('Confusion Matrix:');\n",
        "ax.set_xlabel('\\nValores predichos')\n",
        "ax.set_ylabel('Valores reales ');\n",
        "\n",
        "ax.xaxis.set_ticklabels(['False','True'])\n",
        "ax.yaxis.set_ticklabels(['False','True'])\n",
        "plt.show()"
      ],
      "metadata": {
        "colab": {
          "base_uri": "https://localhost:8080/",
          "height": 501
        },
        "id": "svMzT4bqBw1H",
        "outputId": "41272299-d7e8-4a8c-f17f-6801562401be"
      },
      "execution_count": 18,
      "outputs": [
        {
          "output_type": "display_data",
          "data": {
            "text/plain": [
              "<Figure size 640x480 with 2 Axes>"
            ],
            "image/png": "[encoded data removed]"
          },
          "metadata": {}
        }
      ]
    },
    {
      "cell_type": "markdown",
      "source": [
        "#Conclusion de la aplicacion del modelo 1\n",
        "La interpretación teórica de las métricas de evaluación del modelo proporciona información sobre su rendimiento en términos de clasificación de instancias positivas y negativas. En tu caso, las métricas se calculan específicamente para la clase 'DENUNCIA DE ROBO O HURTO / RETENCION INDEBIDA'. Aquí hay una interpretación teórica para cada métrica:\n",
        "\n",
        "Accuracy (Precisión global):\n",
        "\n",
        " La \"Accuracy\" global mide la proporción de predicciones correctas (verdaderos positivos y verdaderos negativos) entre todas las predicciones.\n",
        "Relevancia para el modelo:  indica que el modelo es capaz de clasificar correctamente la mayoría de las instancias. con un 97% de acierto\n",
        "\n",
        "Precision (Precisión):\n",
        "\n",
        " La precisión mide la proporción de instancias predichas como positivas que son verdaderamente positivas (verdaderos positivos) entre todas las instancias predichas como positivas (verdaderos positivos + falsos positivos).\n",
        "Relevancia para el modelo: Una alta precisión indica que el modelo tiene una baja tasa de falsos positivos, es decir, cuando predice 'DENUNCIA DE ROBO O HURTO / RETENCION INDEBIDA', es probable que esté en lo correcto.\n",
        "Precision del 97%\n",
        "\n",
        "Recall (Recall o Sensibilidad):\n",
        "\n",
        "El recall mide la proporción de instancias verdaderamente positivas que fueron correctamente identificadas por el modelo (verdaderos positivos) entre todas las instancias verdaderamente positivas (verdaderos positivos + falsos negativos).\n",
        "Relevancia para el modelo: Un alto recall indica que el modelo es capaz de identificar la mayoría de las instancias positivas reales. 100% de efectividad en la prueba de recall\n",
        "\n",
        "\n",
        "F1-score (Puntuación F1):\n",
        "\n",
        "Interpretación: El F1-score es la media armónica de precisión y recall. Proporciona un equilibrio entre ambas métricas.\n",
        "Relevancia para el modelo: Un alto F1-score indica un buen equilibrio entre precisión y recall. 99% para el F1-Score\n",
        "\n",
        "\n",
        "Matriz de confusión:\n",
        "\n",
        "La matriz de confusión muestra el número de verdaderos positivos (TP), falsos positivos (FP), verdaderos negativos (TN) y falsos negativos (FN).\n",
        "Relevancia para el modelo: Puedes analizar específicamente los tipos de errores que está cometiendo el modelo. Por ejemplo, un alto número de falsos positivos puede indicar una posible área de mejora."
      ],
      "metadata": {
        "id": "dav_0IjdB-VB"
      }
    },
    {
      "cell_type": "markdown",
      "source": [
        " # Aproximación al modelo 2 Regresion\n",
        " **Se determina primero del DF original el top 6 de marcas** ya vistas mas arriba"
      ],
      "metadata": {
        "id": "XyPdmkf4CHaP"
      }
    },
    {
      "cell_type": "code",
      "source": [
        "nuevas_columnas = [\"automotor_marca_descripcion\", \"registro_seccional_provincia\", \"EDAD\", \"automotor_anio_modelo\", \"q_casos\"]\n",
        "nuevo_df = DF3[nuevas_columnas]\n",
        "nuevo_df.set_index(\"automotor_marca_descripcion\", inplace=True)\n",
        "nuevo_df.sort_values(by=\"automotor_marca_descripcion\")"
      ],
      "metadata": {
        "colab": {
          "base_uri": "https://localhost:8080/",
          "height": 455
        },
        "id": "njiTHL7FB_D_",
        "outputId": "e4071ac8-4891-4f4c-a651-2e135dffad58"
      },
      "execution_count": 19,
      "outputs": [
        {
          "output_type": "execute_result",
          "data": {
            "text/plain": [
              "                            registro_seccional_provincia  EDAD  automotor_anio_modelo  q_casos\n",
              "automotor_marca_descripcion                                                                   \n",
              "-112-RENAULT                                Buenos Aires    27                 2008.0        1\n",
              "ALFA ROMEO                                  Buenos Aires    27                 2011.0        1\n",
              "ALFA ROMEO                                  Buenos Aires    41                 2011.0        1\n",
              "ALFA ROMEO                                  Buenos Aires    42                 2000.0        1\n",
              "ALFA ROMEO                                      Santa Fe    43                 1998.0        1\n",
              "...                                                  ...   ...                    ...      ...\n",
              "VOLKSWAGEN                                  Buenos Aires    38                 2012.0        1\n",
              "VOLSKWAGEN                                  Buenos Aires    27                 2000.0        1\n",
              "VOLSKWAGEN                                       Mendoza    55                 1997.0        1\n",
              "VOLVO                                            Mendoza    36                 1998.0        1\n",
              "WOLKSWAGEN                                  Buenos Aires    32                 1999.0        1\n",
              "\n",
              "[3602 rows x 4 columns]"
            ],
            "text/html": [
              "\n",
              "  <div id=\"df-8eeff24c-9e80-4f17-9158-d75c72ee8043\" class=\"colab-df-container\">\n",
              "    <div>\n",
              "<style scoped>\n",
              "    .dataframe tbody tr th:only-of-type {\n",
              "        vertical-align: middle;\n",
              "    }\n",
              "\n",
              "    .dataframe tbody tr th {\n",
              "        vertical-align: top;\n",
              "    }\n",
              "\n",
              "    .dataframe thead th {\n",
              "        text-align: right;\n",
              "    }\n",
              "</style>\n",
              "<table border=\"1\" class=\"dataframe\">\n",
              "  <thead>\n",
              "    <tr style=\"text-align: right;\">\n",
              "      <th></th>\n",
              "      <th>registro_seccional_provincia</th>\n",
              "      <th>EDAD</th>\n",
              "      <th>automotor_anio_modelo</th>\n",
              "      <th>q_casos</th>\n",
              "    </tr>\n",
              "    <tr>\n",
              "      <th>automotor_marca_descripcion</th>\n",
              "      <th></th>\n",
              "      <th></th>\n",
              "      <th></th>\n",
              "      <th></th>\n",
              "    </tr>\n",
              "  </thead>\n",
              "  <tbody>\n",
              "    <tr>\n",
              "      <th>-112-RENAULT</th>\n",
              "      <td>Buenos Aires</td>\n",
              "      <td>27</td>\n",
              "      <td>2008.0</td>\n",
              "      <td>1</td>\n",
              "    </tr>\n",
              "    <tr>\n",
              "      <th>ALFA ROMEO</th>\n",
              "      <td>Buenos Aires</td>\n",
              "      <td>27</td>\n",
              "      <td>2011.0</td>\n",
              "      <td>1</td>\n",
              "    </tr>\n",
              "    <tr>\n",
              "      <th>ALFA ROMEO</th>\n",
              "      <td>Buenos Aires</td>\n",
              "      <td>41</td>\n",
              "      <td>2011.0</td>\n",
              "      <td>1</td>\n",
              "    </tr>\n",
              "    <tr>\n",
              "      <th>ALFA ROMEO</th>\n",
              "      <td>Buenos Aires</td>\n",
              "      <td>42</td>\n",
              "      <td>2000.0</td>\n",
              "      <td>1</td>\n",
              "    </tr>\n",
              "    <tr>\n",
              "      <th>ALFA ROMEO</th>\n",
              "      <td>Santa Fe</td>\n",
              "      <td>43</td>\n",
              "      <td>1998.0</td>\n",
              "      <td>1</td>\n",
              "    </tr>\n",
              "    <tr>\n",
              "      <th>...</th>\n",
              "      <td>...</td>\n",
              "      <td>...</td>\n",
              "      <td>...</td>\n",
              "      <td>...</td>\n",
              "    </tr>\n",
              "    <tr>\n",
              "      <th>VOLKSWAGEN</th>\n",
              "      <td>Buenos Aires</td>\n",
              "      <td>38</td>\n",
              "      <td>2012.0</td>\n",
              "      <td>1</td>\n",
              "    </tr>\n",
              "    <tr>\n",
              "      <th>VOLSKWAGEN</th>\n",
              "      <td>Buenos Aires</td>\n",
              "      <td>27</td>\n",
              "      <td>2000.0</td>\n",
              "      <td>1</td>\n",
              "    </tr>\n",
              "    <tr>\n",
              "      <th>VOLSKWAGEN</th>\n",
              "      <td>Mendoza</td>\n",
              "      <td>55</td>\n",
              "      <td>1997.0</td>\n",
              "      <td>1</td>\n",
              "    </tr>\n",
              "    <tr>\n",
              "      <th>VOLVO</th>\n",
              "      <td>Mendoza</td>\n",
              "      <td>36</td>\n",
              "      <td>1998.0</td>\n",
              "      <td>1</td>\n",
              "    </tr>\n",
              "    <tr>\n",
              "      <th>WOLKSWAGEN</th>\n",
              "      <td>Buenos Aires</td>\n",
              "      <td>32</td>\n",
              "      <td>1999.0</td>\n",
              "      <td>1</td>\n",
              "    </tr>\n",
              "  </tbody>\n",
              "</table>\n",
              "<p>3602 rows × 4 columns</p>\n",
              "</div>\n",
              "    <div class=\"colab-df-buttons\">\n",
              "\n",
              "  <div class=\"colab-df-container\">\n",
              "    <button class=\"colab-df-convert\" onclick=\"convertToInteractive('df-8eeff24c-9e80-4f17-9158-d75c72ee8043')\"\n",
              "            title=\"Convert this dataframe to an interactive table.\"\n",
              "            style=\"display:none;\">\n",
              "\n",
              "  <svg xmlns=\"http://www.w3.org/2000/svg\" height=\"24px\" viewBox=\"0 -960 960 960\">\n",
              "    <path d=\"M120-120v-720h720v720H120Zm60-500h600v-160H180v160Zm220 220h160v-160H400v160Zm0 220h160v-160H400v160ZM180-400h160v-160H180v160Zm440 0h160v-160H620v160ZM180-180h160v-160H180v160Zm440 0h160v-160H620v160Z\"/>\n",
              "  </svg>\n",
              "    </button>\n",
              "\n",
              "  <style>\n",
              "    .colab-df-container {\n",
              "      display:flex;\n",
              "      gap: 12px;\n",
              "    }\n",
              "\n",
              "    .colab-df-convert {\n",
              "      background-color: #E8F0FE;\n",
              "      border: none;\n",
              "      border-radius: 50%;\n",
              "      cursor: pointer;\n",
              "      display: none;\n",
              "      fill: #1967D2;\n",
              "      height: 32px;\n",
              "      padding: 0 0 0 0;\n",
              "      width: 32px;\n",
              "    }\n",
              "\n",
              "    .colab-df-convert:hover {\n",
              "      background-color: #E2EBFA;\n",
              "      box-shadow: 0px 1px 2px rgba(60, 64, 67, 0.3), 0px 1px 3px 1px rgba(60, 64, 67, 0.15);\n",
              "      fill: #174EA6;\n",
              "    }\n",
              "\n",
              "    .colab-df-buttons div {\n",
              "      margin-bottom: 4px;\n",
              "    }\n",
              "\n",
              "    [theme=dark] .colab-df-convert {\n",
              "      background-color: #3B4455;\n",
              "      fill: #D2E3FC;\n",
              "    }\n",
              "\n",
              "    [theme=dark] .colab-df-convert:hover {\n",
              "      background-color: #434B5C;\n",
              "      box-shadow: 0px 1px 3px 1px rgba(0, 0, 0, 0.15);\n",
              "      filter: drop-shadow(0px 1px 2px rgba(0, 0, 0, 0.3));\n",
              "      fill: #FFFFFF;\n",
              "    }\n",
              "  </style>\n",
              "\n",
              "    <script>\n",
              "      const buttonEl =\n",
              "        document.querySelector('#df-8eeff24c-9e80-4f17-9158-d75c72ee8043 button.colab-df-convert');\n",
              "      buttonEl.style.display =\n",
              "        google.colab.kernel.accessAllowed ? 'block' : 'none';\n",
              "\n",
              "      async function convertToInteractive(key) {\n",
              "        const element = document.querySelector('#df-8eeff24c-9e80-4f17-9158-d75c72ee8043');\n",
              "        const dataTable =\n",
              "          await google.colab.kernel.invokeFunction('convertToInteractive',\n",
              "                                                    [key], {});\n",
              "        if (!dataTable) return;\n",
              "\n",
              "        const docLinkHtml = 'Like what you see? Visit the ' +\n",
              "          '<a target=\"_blank\" href=https://colab.research.google.com/notebooks/data_table.ipynb>data table notebook</a>'\n",
              "          + ' to learn more about interactive tables.';\n",
              "        element.innerHTML = '';\n",
              "        dataTable['output_type'] = 'display_data';\n",
              "        await google.colab.output.renderOutput(dataTable, element);\n",
              "        const docLink = document.createElement('div');\n",
              "        docLink.innerHTML = docLinkHtml;\n",
              "        element.appendChild(docLink);\n",
              "      }\n",
              "    </script>\n",
              "  </div>\n",
              "\n",
              "\n",
              "<div id=\"df-ff266f4a-c676-4c84-b8aa-27fc7acfca31\">\n",
              "  <button class=\"colab-df-quickchart\" onclick=\"quickchart('df-ff266f4a-c676-4c84-b8aa-27fc7acfca31')\"\n",
              "            title=\"Suggest charts\"\n",
              "            style=\"display:none;\">\n",
              "\n",
              "<svg xmlns=\"http://www.w3.org/2000/svg\" height=\"24px\"viewBox=\"0 0 24 24\"\n",
              "     width=\"24px\">\n",
              "    <g>\n",
              "        <path d=\"M19 3H5c-1.1 0-2 .9-2 2v14c0 1.1.9 2 2 2h14c1.1 0 2-.9 2-2V5c0-1.1-.9-2-2-2zM9 17H7v-7h2v7zm4 0h-2V7h2v10zm4 0h-2v-4h2v4z\"/>\n",
              "    </g>\n",
              "</svg>\n",
              "  </button>\n",
              "\n",
              "<style>\n",
              "  .colab-df-quickchart {\n",
              "      --bg-color: #E8F0FE;\n",
              "      --fill-color: #1967D2;\n",
              "      --hover-bg-color: #E2EBFA;\n",
              "      --hover-fill-color: #174EA6;\n",
              "      --disabled-fill-color: #AAA;\n",
              "      --disabled-bg-color: #DDD;\n",
              "  }\n",
              "\n",
              "  [theme=dark] .colab-df-quickchart {\n",
              "      --bg-color: #3B4455;\n",
              "      --fill-color: #D2E3FC;\n",
              "      --hover-bg-color: #434B5C;\n",
              "      --hover-fill-color: #FFFFFF;\n",
              "      --disabled-bg-color: #3B4455;\n",
              "      --disabled-fill-color: #666;\n",
              "  }\n",
              "\n",
              "  .colab-df-quickchart {\n",
              "    background-color: var(--bg-color);\n",
              "    border: none;\n",
              "    border-radius: 50%;\n",
              "    cursor: pointer;\n",
              "    display: none;\n",
              "    fill: var(--fill-color);\n",
              "    height: 32px;\n",
              "    padding: 0;\n",
              "    width: 32px;\n",
              "  }\n",
              "\n",
              "  .colab-df-quickchart:hover {\n",
              "    background-color: var(--hover-bg-color);\n",
              "    box-shadow: 0 1px 2px rgba(60, 64, 67, 0.3), 0 1px 3px 1px rgba(60, 64, 67, 0.15);\n",
              "    fill: var(--button-hover-fill-color);\n",
              "  }\n",
              "\n",
              "  .colab-df-quickchart-complete:disabled,\n",
              "  .colab-df-quickchart-complete:disabled:hover {\n",
              "    background-color: var(--disabled-bg-color);\n",
              "    fill: var(--disabled-fill-color);\n",
              "    box-shadow: none;\n",
              "  }\n",
              "\n",
              "  .colab-df-spinner {\n",
              "    border: 2px solid var(--fill-color);\n",
              "    border-color: transparent;\n",
              "    border-bottom-color: var(--fill-color);\n",
              "    animation:\n",
              "      spin 1s steps(1) infinite;\n",
              "  }\n",
              "\n",
              "  @keyframes spin {\n",
              "    0% {\n",
              "      border-color: transparent;\n",
              "      border-bottom-color: var(--fill-color);\n",
              "      border-left-color: var(--fill-color);\n",
              "    }\n",
              "    20% {\n",
              "      border-color: transparent;\n",
              "      border-left-color: var(--fill-color);\n",
              "      border-top-color: var(--fill-color);\n",
              "    }\n",
              "    30% {\n",
              "      border-color: transparent;\n",
              "      border-left-color: var(--fill-color);\n",
              "      border-top-color: var(--fill-color);\n",
              "      border-right-color: var(--fill-color);\n",
              "    }\n",
              "    40% {\n",
              "      border-color: transparent;\n",
              "      border-right-color: var(--fill-color);\n",
              "      border-top-color: var(--fill-color);\n",
              "    }\n",
              "    60% {\n",
              "      border-color: transparent;\n",
              "      border-right-color: var(--fill-color);\n",
              "    }\n",
              "    80% {\n",
              "      border-color: transparent;\n",
              "      border-right-color: var(--fill-color);\n",
              "      border-bottom-color: var(--fill-color);\n",
              "    }\n",
              "    90% {\n",
              "      border-color: transparent;\n",
              "      border-bottom-color: var(--fill-color);\n",
              "    }\n",
              "  }\n",
              "</style>\n",
              "\n",
              "  <script>\n",
              "    async function quickchart(key) {\n",
              "      const quickchartButtonEl =\n",
              "        document.querySelector('#' + key + ' button');\n",
              "      quickchartButtonEl.disabled = true;  // To prevent multiple clicks.\n",
              "      quickchartButtonEl.classList.add('colab-df-spinner');\n",
              "      try {\n",
              "        const charts = await google.colab.kernel.invokeFunction(\n",
              "            'suggestCharts', [key], {});\n",
              "      } catch (error) {\n",
              "        console.error('Error during call to suggestCharts:', error);\n",
              "      }\n",
              "      quickchartButtonEl.classList.remove('colab-df-spinner');\n",
              "      quickchartButtonEl.classList.add('colab-df-quickchart-complete');\n",
              "    }\n",
              "    (() => {\n",
              "      let quickchartButtonEl =\n",
              "        document.querySelector('#df-ff266f4a-c676-4c84-b8aa-27fc7acfca31 button');\n",
              "      quickchartButtonEl.style.display =\n",
              "        google.colab.kernel.accessAllowed ? 'block' : 'none';\n",
              "    })();\n",
              "  </script>\n",
              "</div>\n",
              "\n",
              "    </div>\n",
              "  </div>\n"
            ],
            "application/vnd.google.colaboratory.intrinsic+json": {
              "type": "dataframe",
              "summary": "{\n  \"name\": \"nuevo_df\",\n  \"rows\": 3602,\n  \"fields\": [\n    {\n      \"column\": \"automotor_marca_descripcion\",\n      \"properties\": {\n        \"dtype\": \"category\",\n        \"num_unique_values\": 55,\n        \"samples\": [\n          \"MITSUBISHI\",\n          \"CHEVROELT\",\n          \"NISSAN\"\n        ],\n        \"semantic_type\": \"\",\n        \"description\": \"\"\n      }\n    },\n    {\n      \"column\": \"registro_seccional_provincia\",\n      \"properties\": {\n        \"dtype\": \"category\",\n        \"num_unique_values\": 23,\n        \"samples\": [\n          \"Neuqu\\u00e9n\",\n          \"Formosa\",\n          \"Buenos Aires\"\n        ],\n        \"semantic_type\": \"\",\n        \"description\": \"\"\n      }\n    },\n    {\n      \"column\": \"EDAD\",\n      \"properties\": {\n        \"dtype\": \"number\",\n        \"std\": 15,\n        \"min\": 2,\n        \"max\": 111,\n        \"num_unique_values\": 90,\n        \"samples\": [\n          70,\n          39,\n          24\n        ],\n        \"semantic_type\": \"\",\n        \"description\": \"\"\n      }\n    },\n    {\n      \"column\": \"automotor_anio_modelo\",\n      \"properties\": {\n        \"dtype\": \"number\",\n        \"std\": 58.49638878029124,\n        \"min\": 0.0,\n        \"max\": 2023.0,\n        \"num_unique_values\": 50,\n        \"samples\": [\n          2017.0,\n          1986.0,\n          1993.0\n        ],\n        \"semantic_type\": \"\",\n        \"description\": \"\"\n      }\n    },\n    {\n      \"column\": \"q_casos\",\n      \"properties\": {\n        \"dtype\": \"number\",\n        \"std\": 0,\n        \"min\": 1,\n        \"max\": 1,\n        \"num_unique_values\": 1,\n        \"samples\": [\n          1\n        ],\n        \"semantic_type\": \"\",\n        \"description\": \"\"\n      }\n    }\n  ]\n}"
            }
          },
          "metadata": {},
          "execution_count": 19
        }
      ]
    },
    {
      "cell_type": "code",
      "source": [
        "#Top 6 por Marca\n",
        "marcas_deseadas = [\"PEUGEOT\", \"VOLKSWAGEN\", \"FIAT\", \"RENAULT\", \"CHEVROLET\",\"FORD\"]\n",
        "nuevas_columnas = [\"automotor_marca_descripcion\", \"registro_seccional_provincia\", \"EDAD\", \"automotor_anio_modelo\", \"q_casos\"]\n",
        "\n",
        "nuevo_df = DF3[nuevas_columnas]\n",
        "nuevo_df.set_index(\"automotor_marca_descripcion\", inplace=True)\n",
        "\n",
        "nuevo_df2 = nuevo_df.groupby(\"automotor_marca_descripcion\")[\"q_casos\"].sum()\n",
        "\n",
        "Top_marcas= nuevo_df2.sort_values(ascending=False)\n",
        "Top_marcas.head(6)"
      ],
      "metadata": {
        "colab": {
          "base_uri": "https://localhost:8080/"
        },
        "id": "nObFIFz0CLPx",
        "outputId": "ac5f2721-c53d-4b3e-be8d-047ea3701c3f"
      },
      "execution_count": 20,
      "outputs": [
        {
          "output_type": "execute_result",
          "data": {
            "text/plain": [
              "automotor_marca_descripcion\n",
              "VOLKSWAGEN    730\n",
              "CHEVROLET     516\n",
              "RENAULT       484\n",
              "FIAT          467\n",
              "FORD          400\n",
              "PEUGEOT       391\n",
              "Name: q_casos, dtype: int64"
            ]
          },
          "metadata": {},
          "execution_count": 20
        }
      ]
    },
    {
      "cell_type": "markdown",
      "source": [
        "Luego se le incorpora una columna nueva para poder establecer qué porcentaje de todo el dataframe representan esos 6 valores top"
      ],
      "metadata": {
        "id": "lhij5Z6JCOl4"
      }
    },
    {
      "cell_type": "code",
      "source": [
        "nuevo_df2 = nuevo_df.groupby(\"automotor_marca_descripcion\")[\"q_casos\"].sum()\n",
        "Top_marcas = nuevo_df2.sort_values(ascending=False).head(10).reset_index()\n",
        "\n",
        "# Calculo el total de casos De todo el dataframe original\n",
        "total_casos = DF3[\"q_casos\"].sum()\n",
        "\n",
        "# Calculo el porcentaje para cada fila y agregarlo como una nueva columna\n",
        "Top_marcas[\"Porcentaje de la muestra\"] = round ((Top_marcas[\"q_casos\"] / total_casos) * 100,2)\n",
        "\n",
        "# Establezco la columna \"registro_seccional_provincia\" como índice\n",
        "Top_marcas.set_index(\"automotor_marca_descripcion\", inplace=True)\n",
        "\n",
        "# Se muestra el DataFrame con la nueva columna de porcentaje y el índice por provincia\n",
        "Top_marcas = Top_marcas.rename(columns={\"q_casos\": \"Cantidad de casos\", \"Porcentaje de la muestra\": \"Porcentaje total\"})\n",
        "Top_marcas = Top_marcas.rename_axis(\"Top 6 Marcas mas Robadas\")\n",
        "print(Top_marcas)"
      ],
      "metadata": {
        "colab": {
          "base_uri": "https://localhost:8080/"
        },
        "id": "TT-ZNUBsCS2f",
        "outputId": "a87a8e33-153d-4698-f951-05621367de43"
      },
      "execution_count": 21,
      "outputs": [
        {
          "output_type": "stream",
          "name": "stdout",
          "text": [
            "                          Cantidad de casos  Porcentaje total\n",
            "Top 6 Marcas mas Robadas                                     \n",
            "VOLKSWAGEN                              730             20.27\n",
            "CHEVROLET                               516             14.33\n",
            "RENAULT                                 484             13.44\n",
            "FIAT                                    467             12.97\n",
            "FORD                                    400             11.10\n",
            "PEUGEOT                                 391             10.86\n",
            "TOYOTA                                  176              4.89\n",
            "CITROEN                                 134              3.72\n",
            "NISSAN                                   40              1.11\n",
            "MERCEDES BENZ                            40              1.11\n"
          ]
        }
      ]
    },
    {
      "cell_type": "markdown",
      "source": [
        "**Se analiza ahora la relacion de la variable de cantidad de casos con las provincias**"
      ],
      "metadata": {
        "id": "vNx59XeaCWmU"
      }
    },
    {
      "cell_type": "code",
      "source": [
        "#Top 10 por Provincia\n",
        "nuevo_df3 = nuevo_df.groupby(\"registro_seccional_provincia\")[\"q_casos\"].sum()\n",
        "df_provincia= nuevo_df3.sort_values(ascending=False)\n",
        "df_provincia.head(10)"
      ],
      "metadata": {
        "colab": {
          "base_uri": "https://localhost:8080/"
        },
        "id": "R0lxy3WaCXPA",
        "outputId": "e30d9c8c-a04a-4813-ef76-87143a431050"
      },
      "execution_count": 22,
      "outputs": [
        {
          "output_type": "execute_result",
          "data": {
            "text/plain": [
              "registro_seccional_provincia\n",
              "Buenos Aires                 2368\n",
              "Ciudad Autónoma de Bs.As.     430\n",
              "Córdoba                       321\n",
              "Santa Fe                      197\n",
              "Mendoza                       166\n",
              "Neuquén                        26\n",
              "Entre Ríos                     14\n",
              "Río Negro                      12\n",
              "Tucumán                         9\n",
              "Chubut                          8\n",
              "Name: q_casos, dtype: int64"
            ]
          },
          "metadata": {},
          "execution_count": 22
        }
      ]
    },
    {
      "cell_type": "markdown",
      "source": [
        "Luego se le incorpora una columna nueva para poder establecer qué porcentaje de todo el dataframe representan esos 10 valores top"
      ],
      "metadata": {
        "id": "5deBUJl3Caqp"
      }
    },
    {
      "cell_type": "code",
      "source": [
        "nuevo_df3 = nuevo_df.groupby(\"registro_seccional_provincia\")[\"q_casos\"].sum()\n",
        "df_provincia = nuevo_df3.sort_values(ascending=False).head(10).reset_index()\n",
        "\n",
        "# Calculo el total de casos De todo el dataframe original\n",
        "total_casos = DF3[\"q_casos\"].sum()\n",
        "\n",
        "# Calculo el porcentaje para cada fila y agregarlo como una nueva columna\n",
        "df_provincia[\"Porcentaje de la muestra\"] = round((df_provincia[\"q_casos\"] / total_casos) * 100,2)\n",
        "\n",
        "# Se establece la columna \"registro_seccional_provincia\" como índice\n",
        "df_provincia.set_index(\"registro_seccional_provincia\", inplace=True)\n",
        "\n",
        "# Muestro el DataFrame con la nueva columna de porcentaje y el índice por provincia\n",
        "\n",
        "df_provincia = df_provincia.rename(columns={\"q_casos\": \"Cantidad de casos\", \"Porcentaje de la muestra\": \"Porcentaje total\"})\n",
        "df_provincia = df_provincia.rename_axis(\"Top 10 Provincias con mas robos\")\n",
        "print(df_provincia)"
      ],
      "metadata": {
        "colab": {
          "base_uri": "https://localhost:8080/"
        },
        "id": "gQLlN2gBCcPI",
        "outputId": "3d040dfb-8a86-41e7-f5b1-845df356e5d8"
      },
      "execution_count": 23,
      "outputs": [
        {
          "output_type": "stream",
          "name": "stdout",
          "text": [
            "                                 Cantidad de casos  Porcentaje total\n",
            "Top 10 Provincias con mas robos                                     \n",
            "Buenos Aires                                  2368             65.74\n",
            "Ciudad Autónoma de Bs.As.                      430             11.94\n",
            "Córdoba                                        321              8.91\n",
            "Santa Fe                                       197              5.47\n",
            "Mendoza                                        166              4.61\n",
            "Neuquén                                         26              0.72\n",
            "Entre Ríos                                      14              0.39\n",
            "Río Negro                                       12              0.33\n",
            "Tucumán                                          9              0.25\n",
            "Chubut                                           8              0.22\n"
          ]
        }
      ]
    },
    {
      "cell_type": "markdown",
      "source": [
        "**Se analiza la relacion de la variable por edad**"
      ],
      "metadata": {
        "id": "mMQH969XCirw"
      }
    },
    {
      "cell_type": "code",
      "source": [
        "#Top 10 por Edad\n",
        "nuevo_dfedad = nuevo_df.groupby(\"EDAD\")[\"q_casos\"].sum()\n",
        "\n",
        "df_edad =nuevo_dfedad.sort_values(ascending=False)\n",
        "df_edad.head(10)"
      ],
      "metadata": {
        "colab": {
          "base_uri": "https://localhost:8080/"
        },
        "id": "3aXFc9bBCjKk",
        "outputId": "3c10b74d-23a9-4132-a522-c2667cae2b69"
      },
      "execution_count": 24,
      "outputs": [
        {
          "output_type": "execute_result",
          "data": {
            "text/plain": [
              "EDAD\n",
              "35    109\n",
              "33    100\n",
              "38     99\n",
              "45     99\n",
              "42     97\n",
              "41     97\n",
              "29     97\n",
              "32     95\n",
              "36     94\n",
              "31     92\n",
              "Name: q_casos, dtype: int64"
            ]
          },
          "metadata": {},
          "execution_count": 24
        }
      ]
    },
    {
      "cell_type": "markdown",
      "source": [
        "Luego se le incorpora una columna nueva para poder establecer qué porcentaje de todo el dataframe representan esos 10 valores top"
      ],
      "metadata": {
        "id": "Hui6Mv0xCnGY"
      }
    },
    {
      "cell_type": "code",
      "source": [
        "nuevo_dfedad = nuevo_df.groupby(\"EDAD\")[\"q_casos\"].sum()\n",
        "df_edad = nuevo_dfedad.sort_values(ascending=False).head(10).reset_index()\n",
        "\n",
        "# Calculoel total de casos De todo el dataframe original\n",
        "total_casos = DF3[\"q_casos\"].sum()\n",
        "\n",
        "# Calculo el porcentaje para cada fila y agregarlo como una nueva columna\n",
        "df_edad[\"Porcentaje de la muestra\"] = round((df_edad[\"q_casos\"] / total_casos) * 100,2)\n",
        "\n",
        "# Eztablezco la columna \"registro_seccional_provincia\" como índice\n",
        "df_edad.set_index(\"EDAD\", inplace=True)\n",
        "\n",
        "# Se muestra el DataFrame con la nueva columna de porcentaje y el índice por provincia\n",
        "df_edad = df_edad.rename(columns={\"q_casos\": \"Cantidad de casos\", \"Porcentaje de la muestra\": \"Porcentaje total\"})\n",
        "df_edad= df_edad.rename_axis(\"Top 10 edades con más robos\")\n",
        "print(df_edad)"
      ],
      "metadata": {
        "colab": {
          "base_uri": "https://localhost:8080/"
        },
        "id": "uS_kj-VPCo92",
        "outputId": "14e79b8b-1ad6-4f06-bf04-0c4285fca16c"
      },
      "execution_count": 25,
      "outputs": [
        {
          "output_type": "stream",
          "name": "stdout",
          "text": [
            "                             Cantidad de casos  Porcentaje total\n",
            "Top 10 edades con más robos                                     \n",
            "35                                         109              3.03\n",
            "33                                         100              2.78\n",
            "38                                          99              2.75\n",
            "45                                          99              2.75\n",
            "42                                          97              2.69\n",
            "41                                          97              2.69\n",
            "29                                          97              2.69\n",
            "32                                          95              2.64\n",
            "36                                          94              2.61\n",
            "31                                          92              2.55\n"
          ]
        }
      ]
    },
    {
      "cell_type": "markdown",
      "source": [
        "**Se analiza la relacion de la variable cantidad de robos, con la del año de la unidad**"
      ],
      "metadata": {
        "id": "-bKePZAkCrsR"
      }
    },
    {
      "cell_type": "code",
      "source": [
        "#Top 10 por Año\n",
        "nuevo_df3 = nuevo_df.groupby(\"automotor_anio_modelo\")[\"q_casos\"].sum()\n",
        "df_anio= nuevo_df3.sort_values(ascending=False)\n",
        "df_anio.head(10)"
      ],
      "metadata": {
        "colab": {
          "base_uri": "https://localhost:8080/"
        },
        "id": "zYceRAm4CvZm",
        "outputId": "570cfd7e-d7da-4c5c-a5bb-09ad6f317240"
      },
      "execution_count": 26,
      "outputs": [
        {
          "output_type": "execute_result",
          "data": {
            "text/plain": [
              "automotor_anio_modelo\n",
              "2010.0    233\n",
              "2013.0    213\n",
              "2011.0    213\n",
              "2012.0    197\n",
              "2017.0    166\n",
              "2007.0    163\n",
              "2008.0    162\n",
              "2016.0    156\n",
              "2018.0    151\n",
              "2006.0    149\n",
              "Name: q_casos, dtype: int64"
            ]
          },
          "metadata": {},
          "execution_count": 26
        }
      ]
    },
    {
      "cell_type": "code",
      "source": [
        "nuevo_df3 = nuevo_df.groupby([\"automotor_anio_modelo\"])[\"q_casos\"].sum()\n",
        "df_anio = nuevo_df3.sort_values(ascending=False).head(10).reset_index()\n",
        "\n",
        "# Calculo el total de casos De todo el dataframe original\n",
        "total_casos = DF3[\"q_casos\"].sum()\n",
        "\n",
        "# Calculo el porcentaje para cada fila y agregarlo como una nueva columna\n",
        "df_anio[\"Porcentaje de la muestra\"] = round((df_anio[\"q_casos\"] / total_casos) * 100,2)\n",
        "\n",
        "# Establezco la columna \"registro_seccional_provincia\" como índice\n",
        "df_anio.set_index(\"automotor_anio_modelo\", inplace=True)\n",
        "\n",
        "# Se DataFrame con la nueva columna de porcentaje y el índice por provincia\n",
        "df_anio = df_anio.rename(columns={\"q_casos\": \"Cantidad de casos\", \"Porcentaje de la muestra\": \"Porcentaje total\"})\n",
        "df_anio= df_anio.rename_axis(\"Top 10 de robos por año de unidad\")\n",
        "print(df_anio)\n"
      ],
      "metadata": {
        "colab": {
          "base_uri": "https://localhost:8080/"
        },
        "id": "rFAs0d-_Cxb0",
        "outputId": "4342597e-b3a9-46fb-a8a9-d56fd8757d5a"
      },
      "execution_count": 27,
      "outputs": [
        {
          "output_type": "stream",
          "name": "stdout",
          "text": [
            "                                   Cantidad de casos  Porcentaje total\n",
            "Top 10 de robos por año de unidad                                     \n",
            "2010.0                                           233              6.47\n",
            "2013.0                                           213              5.91\n",
            "2011.0                                           213              5.91\n",
            "2012.0                                           197              5.47\n",
            "2017.0                                           166              4.61\n",
            "2007.0                                           163              4.53\n",
            "2008.0                                           162              4.50\n",
            "2016.0                                           156              4.33\n",
            "2018.0                                           151              4.19\n",
            "2006.0                                           149              4.14\n"
          ]
        }
      ]
    },
    {
      "cell_type": "code",
      "source": [
        "#Se procede a crear un dataframe con todas las metricas de frecuencia de robo\n",
        "frecuencia_robos = DF3.groupby([\"registro_seccional_provincia\", \"automotor_marca_descripcion\",\"EDAD\",\"automotor_anio_modelo\"]).size() / len(DF3)\n",
        "\n",
        "frecuencia_robos"
      ],
      "metadata": {
        "colab": {
          "base_uri": "https://localhost:8080/"
        },
        "id": "uKMOw0egC1A4",
        "outputId": "fad5037e-0a16-4123-fc5b-a1cee6025ebf"
      },
      "execution_count": 28,
      "outputs": [
        {
          "output_type": "execute_result",
          "data": {
            "text/plain": [
              "registro_seccional_provincia  automotor_marca_descripcion  EDAD  automotor_anio_modelo\n",
              "Buenos Aires                  -112-RENAULT                 27    2008.0                   0.000278\n",
              "                              ALFA ROMEO                   27    2011.0                   0.000278\n",
              "                                                           41    2011.0                   0.000278\n",
              "                                                           42    2000.0                   0.000278\n",
              "                              AUDI                         25    2009.0                   0.000278\n",
              "                                                                                            ...   \n",
              "Tucumán                       PEUGEOT                      26    2010.0                   0.000278\n",
              "                              RENAULT                      36    2017.0                   0.000278\n",
              "                                                           91    2012.0                   0.000278\n",
              "                              TOYOTA                       20    1999.0                   0.000278\n",
              "                              VOLKSWAGEN                   63    2013.0                   0.000278\n",
              "Length: 3276, dtype: float64"
            ]
          },
          "metadata": {},
          "execution_count": 28
        }
      ]
    },
    {
      "cell_type": "code",
      "source": [
        "df = frecuencia_robos.reset_index()\n",
        "\n",
        "df.columns = [\"registro_seccional_provincia\", \"automotor_marca_descripcion\",\"EDAD\" ,\"automotor_anio_modelo\", \"frecuencia_robos\"]\n",
        "df\n",
        "\n"
      ],
      "metadata": {
        "colab": {
          "base_uri": "https://localhost:8080/",
          "height": 423
        },
        "id": "Kz8ldS9IC4y1",
        "outputId": "c27c1375-a48d-4c43-de08-9835606514b9"
      },
      "execution_count": 29,
      "outputs": [
        {
          "output_type": "execute_result",
          "data": {
            "text/plain": [
              "     registro_seccional_provincia automotor_marca_descripcion  EDAD  automotor_anio_modelo  frecuencia_robos\n",
              "0                    Buenos Aires                -112-RENAULT    27                 2008.0          0.000278\n",
              "1                    Buenos Aires                  ALFA ROMEO    27                 2011.0          0.000278\n",
              "2                    Buenos Aires                  ALFA ROMEO    41                 2011.0          0.000278\n",
              "3                    Buenos Aires                  ALFA ROMEO    42                 2000.0          0.000278\n",
              "4                    Buenos Aires                        AUDI    25                 2009.0          0.000278\n",
              "...                           ...                         ...   ...                    ...               ...\n",
              "3271                      Tucumán                     PEUGEOT    26                 2010.0          0.000278\n",
              "3272                      Tucumán                     RENAULT    36                 2017.0          0.000278\n",
              "3273                      Tucumán                     RENAULT    91                 2012.0          0.000278\n",
              "3274                      Tucumán                      TOYOTA    20                 1999.0          0.000278\n",
              "3275                      Tucumán                  VOLKSWAGEN    63                 2013.0          0.000278\n",
              "\n",
              "[3276 rows x 5 columns]"
            ],
            "text/html": [
              "\n",
              "  <div id=\"df-d79cd940-d84a-44dd-99f8-f5668ed395f4\" class=\"colab-df-container\">\n",
              "    <div>\n",
              "<style scoped>\n",
              "    .dataframe tbody tr th:only-of-type {\n",
              "        vertical-align: middle;\n",
              "    }\n",
              "\n",
              "    .dataframe tbody tr th {\n",
              "        vertical-align: top;\n",
              "    }\n",
              "\n",
              "    .dataframe thead th {\n",
              "        text-align: right;\n",
              "    }\n",
              "</style>\n",
              "<table border=\"1\" class=\"dataframe\">\n",
              "  <thead>\n",
              "    <tr style=\"text-align: right;\">\n",
              "      <th></th>\n",
              "      <th>registro_seccional_provincia</th>\n",
              "      <th>automotor_marca_descripcion</th>\n",
              "      <th>EDAD</th>\n",
              "      <th>automotor_anio_modelo</th>\n",
              "      <th>frecuencia_robos</th>\n",
              "    </tr>\n",
              "  </thead>\n",
              "  <tbody>\n",
              "    <tr>\n",
              "      <th>0</th>\n",
              "      <td>Buenos Aires</td>\n",
              "      <td>-112-RENAULT</td>\n",
              "      <td>27</td>\n",
              "      <td>2008.0</td>\n",
              "      <td>0.000278</td>\n",
              "    </tr>\n",
              "    <tr>\n",
              "      <th>1</th>\n",
              "      <td>Buenos Aires</td>\n",
              "      <td>ALFA ROMEO</td>\n",
              "      <td>27</td>\n",
              "      <td>2011.0</td>\n",
              "      <td>0.000278</td>\n",
              "    </tr>\n",
              "    <tr>\n",
              "      <th>2</th>\n",
              "      <td>Buenos Aires</td>\n",
              "      <td>ALFA ROMEO</td>\n",
              "      <td>41</td>\n",
              "      <td>2011.0</td>\n",
              "      <td>0.000278</td>\n",
              "    </tr>\n",
              "    <tr>\n",
              "      <th>3</th>\n",
              "      <td>Buenos Aires</td>\n",
              "      <td>ALFA ROMEO</td>\n",
              "      <td>42</td>\n",
              "      <td>2000.0</td>\n",
              "      <td>0.000278</td>\n",
              "    </tr>\n",
              "    <tr>\n",
              "      <th>4</th>\n",
              "      <td>Buenos Aires</td>\n",
              "      <td>AUDI</td>\n",
              "      <td>25</td>\n",
              "      <td>2009.0</td>\n",
              "      <td>0.000278</td>\n",
              "    </tr>\n",
              "    <tr>\n",
              "      <th>...</th>\n",
              "      <td>...</td>\n",
              "      <td>...</td>\n",
              "      <td>...</td>\n",
              "      <td>...</td>\n",
              "      <td>...</td>\n",
              "    </tr>\n",
              "    <tr>\n",
              "      <th>3271</th>\n",
              "      <td>Tucumán</td>\n",
              "      <td>PEUGEOT</td>\n",
              "      <td>26</td>\n",
              "      <td>2010.0</td>\n",
              "      <td>0.000278</td>\n",
              "    </tr>\n",
              "    <tr>\n",
              "      <th>3272</th>\n",
              "      <td>Tucumán</td>\n",
              "      <td>RENAULT</td>\n",
              "      <td>36</td>\n",
              "      <td>2017.0</td>\n",
              "      <td>0.000278</td>\n",
              "    </tr>\n",
              "    <tr>\n",
              "      <th>3273</th>\n",
              "      <td>Tucumán</td>\n",
              "      <td>RENAULT</td>\n",
              "      <td>91</td>\n",
              "      <td>2012.0</td>\n",
              "      <td>0.000278</td>\n",
              "    </tr>\n",
              "    <tr>\n",
              "      <th>3274</th>\n",
              "      <td>Tucumán</td>\n",
              "      <td>TOYOTA</td>\n",
              "      <td>20</td>\n",
              "      <td>1999.0</td>\n",
              "      <td>0.000278</td>\n",
              "    </tr>\n",
              "    <tr>\n",
              "      <th>3275</th>\n",
              "      <td>Tucumán</td>\n",
              "      <td>VOLKSWAGEN</td>\n",
              "      <td>63</td>\n",
              "      <td>2013.0</td>\n",
              "      <td>0.000278</td>\n",
              "    </tr>\n",
              "  </tbody>\n",
              "</table>\n",
              "<p>3276 rows × 5 columns</p>\n",
              "</div>\n",
              "    <div class=\"colab-df-buttons\">\n",
              "\n",
              "  <div class=\"colab-df-container\">\n",
              "    <button class=\"colab-df-convert\" onclick=\"convertToInteractive('df-d79cd940-d84a-44dd-99f8-f5668ed395f4')\"\n",
              "            title=\"Convert this dataframe to an interactive table.\"\n",
              "            style=\"display:none;\">\n",
              "\n",
              "  <svg xmlns=\"http://www.w3.org/2000/svg\" height=\"24px\" viewBox=\"0 -960 960 960\">\n",
              "    <path d=\"M120-120v-720h720v720H120Zm60-500h600v-160H180v160Zm220 220h160v-160H400v160Zm0 220h160v-160H400v160ZM180-400h160v-160H180v160Zm440 0h160v-160H620v160ZM180-180h160v-160H180v160Zm440 0h160v-160H620v160Z\"/>\n",
              "  </svg>\n",
              "    </button>\n",
              "\n",
              "  <style>\n",
              "    .colab-df-container {\n",
              "      display:flex;\n",
              "      gap: 12px;\n",
              "    }\n",
              "\n",
              "    .colab-df-convert {\n",
              "      background-color: #E8F0FE;\n",
              "      border: none;\n",
              "      border-radius: 50%;\n",
              "      cursor: pointer;\n",
              "      display: none;\n",
              "      fill: #1967D2;\n",
              "      height: 32px;\n",
              "      padding: 0 0 0 0;\n",
              "      width: 32px;\n",
              "    }\n",
              "\n",
              "    .colab-df-convert:hover {\n",
              "      background-color: #E2EBFA;\n",
              "      box-shadow: 0px 1px 2px rgba(60, 64, 67, 0.3), 0px 1px 3px 1px rgba(60, 64, 67, 0.15);\n",
              "      fill: #174EA6;\n",
              "    }\n",
              "\n",
              "    .colab-df-buttons div {\n",
              "      margin-bottom: 4px;\n",
              "    }\n",
              "\n",
              "    [theme=dark] .colab-df-convert {\n",
              "      background-color: #3B4455;\n",
              "      fill: #D2E3FC;\n",
              "    }\n",
              "\n",
              "    [theme=dark] .colab-df-convert:hover {\n",
              "      background-color: #434B5C;\n",
              "      box-shadow: 0px 1px 3px 1px rgba(0, 0, 0, 0.15);\n",
              "      filter: drop-shadow(0px 1px 2px rgba(0, 0, 0, 0.3));\n",
              "      fill: #FFFFFF;\n",
              "    }\n",
              "  </style>\n",
              "\n",
              "    <script>\n",
              "      const buttonEl =\n",
              "        document.querySelector('#df-d79cd940-d84a-44dd-99f8-f5668ed395f4 button.colab-df-convert');\n",
              "      buttonEl.style.display =\n",
              "        google.colab.kernel.accessAllowed ? 'block' : 'none';\n",
              "\n",
              "      async function convertToInteractive(key) {\n",
              "        const element = document.querySelector('#df-d79cd940-d84a-44dd-99f8-f5668ed395f4');\n",
              "        const dataTable =\n",
              "          await google.colab.kernel.invokeFunction('convertToInteractive',\n",
              "                                                    [key], {});\n",
              "        if (!dataTable) return;\n",
              "\n",
              "        const docLinkHtml = 'Like what you see? Visit the ' +\n",
              "          '<a target=\"_blank\" href=https://colab.research.google.com/notebooks/data_table.ipynb>data table notebook</a>'\n",
              "          + ' to learn more about interactive tables.';\n",
              "        element.innerHTML = '';\n",
              "        dataTable['output_type'] = 'display_data';\n",
              "        await google.colab.output.renderOutput(dataTable, element);\n",
              "        const docLink = document.createElement('div');\n",
              "        docLink.innerHTML = docLinkHtml;\n",
              "        element.appendChild(docLink);\n",
              "      }\n",
              "    </script>\n",
              "  </div>\n",
              "\n",
              "\n",
              "<div id=\"df-fef7aa6f-038a-440f-a9dd-24ef30dc325c\">\n",
              "  <button class=\"colab-df-quickchart\" onclick=\"quickchart('df-fef7aa6f-038a-440f-a9dd-24ef30dc325c')\"\n",
              "            title=\"Suggest charts\"\n",
              "            style=\"display:none;\">\n",
              "\n",
              "<svg xmlns=\"http://www.w3.org/2000/svg\" height=\"24px\"viewBox=\"0 0 24 24\"\n",
              "     width=\"24px\">\n",
              "    <g>\n",
              "        <path d=\"M19 3H5c-1.1 0-2 .9-2 2v14c0 1.1.9 2 2 2h14c1.1 0 2-.9 2-2V5c0-1.1-.9-2-2-2zM9 17H7v-7h2v7zm4 0h-2V7h2v10zm4 0h-2v-4h2v4z\"/>\n",
              "    </g>\n",
              "</svg>\n",
              "  </button>\n",
              "\n",
              "<style>\n",
              "  .colab-df-quickchart {\n",
              "      --bg-color: #E8F0FE;\n",
              "      --fill-color: #1967D2;\n",
              "      --hover-bg-color: #E2EBFA;\n",
              "      --hover-fill-color: #174EA6;\n",
              "      --disabled-fill-color: #AAA;\n",
              "      --disabled-bg-color: #DDD;\n",
              "  }\n",
              "\n",
              "  [theme=dark] .colab-df-quickchart {\n",
              "      --bg-color: #3B4455;\n",
              "      --fill-color: #D2E3FC;\n",
              "      --hover-bg-color: #434B5C;\n",
              "      --hover-fill-color: #FFFFFF;\n",
              "      --disabled-bg-color: #3B4455;\n",
              "      --disabled-fill-color: #666;\n",
              "  }\n",
              "\n",
              "  .colab-df-quickchart {\n",
              "    background-color: var(--bg-color);\n",
              "    border: none;\n",
              "    border-radius: 50%;\n",
              "    cursor: pointer;\n",
              "    display: none;\n",
              "    fill: var(--fill-color);\n",
              "    height: 32px;\n",
              "    padding: 0;\n",
              "    width: 32px;\n",
              "  }\n",
              "\n",
              "  .colab-df-quickchart:hover {\n",
              "    background-color: var(--hover-bg-color);\n",
              "    box-shadow: 0 1px 2px rgba(60, 64, 67, 0.3), 0 1px 3px 1px rgba(60, 64, 67, 0.15);\n",
              "    fill: var(--button-hover-fill-color);\n",
              "  }\n",
              "\n",
              "  .colab-df-quickchart-complete:disabled,\n",
              "  .colab-df-quickchart-complete:disabled:hover {\n",
              "    background-color: var(--disabled-bg-color);\n",
              "    fill: var(--disabled-fill-color);\n",
              "    box-shadow: none;\n",
              "  }\n",
              "\n",
              "  .colab-df-spinner {\n",
              "    border: 2px solid var(--fill-color);\n",
              "    border-color: transparent;\n",
              "    border-bottom-color: var(--fill-color);\n",
              "    animation:\n",
              "      spin 1s steps(1) infinite;\n",
              "  }\n",
              "\n",
              "  @keyframes spin {\n",
              "    0% {\n",
              "      border-color: transparent;\n",
              "      border-bottom-color: var(--fill-color);\n",
              "      border-left-color: var(--fill-color);\n",
              "    }\n",
              "    20% {\n",
              "      border-color: transparent;\n",
              "      border-left-color: var(--fill-color);\n",
              "      border-top-color: var(--fill-color);\n",
              "    }\n",
              "    30% {\n",
              "      border-color: transparent;\n",
              "      border-left-color: var(--fill-color);\n",
              "      border-top-color: var(--fill-color);\n",
              "      border-right-color: var(--fill-color);\n",
              "    }\n",
              "    40% {\n",
              "      border-color: transparent;\n",
              "      border-right-color: var(--fill-color);\n",
              "      border-top-color: var(--fill-color);\n",
              "    }\n",
              "    60% {\n",
              "      border-color: transparent;\n",
              "      border-right-color: var(--fill-color);\n",
              "    }\n",
              "    80% {\n",
              "      border-color: transparent;\n",
              "      border-right-color: var(--fill-color);\n",
              "      border-bottom-color: var(--fill-color);\n",
              "    }\n",
              "    90% {\n",
              "      border-color: transparent;\n",
              "      border-bottom-color: var(--fill-color);\n",
              "    }\n",
              "  }\n",
              "</style>\n",
              "\n",
              "  <script>\n",
              "    async function quickchart(key) {\n",
              "      const quickchartButtonEl =\n",
              "        document.querySelector('#' + key + ' button');\n",
              "      quickchartButtonEl.disabled = true;  // To prevent multiple clicks.\n",
              "      quickchartButtonEl.classList.add('colab-df-spinner');\n",
              "      try {\n",
              "        const charts = await google.colab.kernel.invokeFunction(\n",
              "            'suggestCharts', [key], {});\n",
              "      } catch (error) {\n",
              "        console.error('Error during call to suggestCharts:', error);\n",
              "      }\n",
              "      quickchartButtonEl.classList.remove('colab-df-spinner');\n",
              "      quickchartButtonEl.classList.add('colab-df-quickchart-complete');\n",
              "    }\n",
              "    (() => {\n",
              "      let quickchartButtonEl =\n",
              "        document.querySelector('#df-fef7aa6f-038a-440f-a9dd-24ef30dc325c button');\n",
              "      quickchartButtonEl.style.display =\n",
              "        google.colab.kernel.accessAllowed ? 'block' : 'none';\n",
              "    })();\n",
              "  </script>\n",
              "</div>\n",
              "\n",
              "  <div id=\"id_18e89309-3575-4493-98c3-17ccf9ce7e88\">\n",
              "    <style>\n",
              "      .colab-df-generate {\n",
              "        background-color: #E8F0FE;\n",
              "        border: none;\n",
              "        border-radius: 50%;\n",
              "        cursor: pointer;\n",
              "        display: none;\n",
              "        fill: #1967D2;\n",
              "        height: 32px;\n",
              "        padding: 0 0 0 0;\n",
              "        width: 32px;\n",
              "      }\n",
              "\n",
              "      .colab-df-generate:hover {\n",
              "        background-color: #E2EBFA;\n",
              "        box-shadow: 0px 1px 2px rgba(60, 64, 67, 0.3), 0px 1px 3px 1px rgba(60, 64, 67, 0.15);\n",
              "        fill: #174EA6;\n",
              "      }\n",
              "\n",
              "      [theme=dark] .colab-df-generate {\n",
              "        background-color: #3B4455;\n",
              "        fill: #D2E3FC;\n",
              "      }\n",
              "\n",
              "      [theme=dark] .colab-df-generate:hover {\n",
              "        background-color: #434B5C;\n",
              "        box-shadow: 0px 1px 3px 1px rgba(0, 0, 0, 0.15);\n",
              "        filter: drop-shadow(0px 1px 2px rgba(0, 0, 0, 0.3));\n",
              "        fill: #FFFFFF;\n",
              "      }\n",
              "    </style>\n",
              "    <button class=\"colab-df-generate\" onclick=\"generateWithVariable('df')\"\n",
              "            title=\"Generate code using this dataframe.\"\n",
              "            style=\"display:none;\">\n",
              "\n",
              "  <svg xmlns=\"http://www.w3.org/2000/svg\" height=\"24px\"viewBox=\"0 0 24 24\"\n",
              "       width=\"24px\">\n",
              "    <path d=\"M7,19H8.4L18.45,9,17,7.55,7,17.6ZM5,21V16.75L18.45,3.32a2,2,0,0,1,2.83,0l1.4,1.43a1.91,1.91,0,0,1,.58,1.4,1.91,1.91,0,0,1-.58,1.4L9.25,21ZM18.45,9,17,7.55Zm-12,3A5.31,5.31,0,0,0,4.9,8.1,5.31,5.31,0,0,0,1,6.5,5.31,5.31,0,0,0,4.9,4.9,5.31,5.31,0,0,0,6.5,1,5.31,5.31,0,0,0,8.1,4.9,5.31,5.31,0,0,0,12,6.5,5.46,5.46,0,0,0,6.5,12Z\"/>\n",
              "  </svg>\n",
              "    </button>\n",
              "    <script>\n",
              "      (() => {\n",
              "      const buttonEl =\n",
              "        document.querySelector('#id_18e89309-3575-4493-98c3-17ccf9ce7e88 button.colab-df-generate');\n",
              "      buttonEl.style.display =\n",
              "        google.colab.kernel.accessAllowed ? 'block' : 'none';\n",
              "\n",
              "      buttonEl.onclick = () => {\n",
              "        google.colab.notebook.generateWithVariable('df');\n",
              "      }\n",
              "      })();\n",
              "    </script>\n",
              "  </div>\n",
              "\n",
              "    </div>\n",
              "  </div>\n"
            ],
            "application/vnd.google.colaboratory.intrinsic+json": {
              "type": "dataframe",
              "variable_name": "df",
              "summary": "{\n  \"name\": \"df\",\n  \"rows\": 3276,\n  \"fields\": [\n    {\n      \"column\": \"registro_seccional_provincia\",\n      \"properties\": {\n        \"dtype\": \"category\",\n        \"num_unique_values\": 23,\n        \"samples\": [\n          \"Salta\",\n          \"La Pampa\",\n          \"Buenos Aires\"\n        ],\n        \"semantic_type\": \"\",\n        \"description\": \"\"\n      }\n    },\n    {\n      \"column\": \"automotor_marca_descripcion\",\n      \"properties\": {\n        \"dtype\": \"category\",\n        \"num_unique_values\": 55,\n        \"samples\": [\n          \"RAM\",\n          \"CHEVROELT\",\n          \"RENAULT\"\n        ],\n        \"semantic_type\": \"\",\n        \"description\": \"\"\n      }\n    },\n    {\n      \"column\": \"EDAD\",\n      \"properties\": {\n        \"dtype\": \"number\",\n        \"std\": 15,\n        \"min\": 2,\n        \"max\": 111,\n        \"num_unique_values\": 90,\n        \"samples\": [\n          55,\n          65,\n          77\n        ],\n        \"semantic_type\": \"\",\n        \"description\": \"\"\n      }\n    },\n    {\n      \"column\": \"automotor_anio_modelo\",\n      \"properties\": {\n        \"dtype\": \"number\",\n        \"std\": 61.29510180024381,\n        \"min\": 0.0,\n        \"max\": 2023.0,\n        \"num_unique_values\": 50,\n        \"samples\": [\n          1998.0,\n          1978.0,\n          1980.0\n        ],\n        \"semantic_type\": \"\",\n        \"description\": \"\"\n      }\n    },\n    {\n      \"column\": \"frecuencia_robos\",\n      \"properties\": {\n        \"dtype\": \"number\",\n        \"std\": 9.817682706176713e-05,\n        \"min\": 0.000277623542476402,\n        \"max\": 0.001110494169905608,\n        \"num_unique_values\": 4,\n        \"samples\": [\n          0.000555247084952804,\n          0.000832870627429206,\n          0.000277623542476402\n        ],\n        \"semantic_type\": \"\",\n        \"description\": \"\"\n      }\n    }\n  ]\n}"
            }
          },
          "metadata": {},
          "execution_count": 29
        }
      ]
    },
    {
      "cell_type": "code",
      "source": [
        "\n",
        "# Hago los intervalos de frecuencia de robos y asigno clases seleccionando las variables\n",
        "df[\"clase_frecuencia_robos\"] = pd.cut(df[\"frecuencia_robos\"], bins=5, labels=[1, 2, 3, 4, 5])\n",
        "\n",
        "X = df[[\"registro_seccional_provincia\", \"automotor_marca_descripcion\",\"EDAD\", \"automotor_anio_modelo\"]]\n",
        "y = df[\"clase_frecuencia_robos\"]\n"
      ],
      "metadata": {
        "id": "N9iSJslvC8hr"
      },
      "execution_count": 30,
      "outputs": []
    },
    {
      "cell_type": "code",
      "source": [
        "\n",
        "encoder = OneHotEncoder()\n",
        "ridge = Ridge(alpha=1.0)\n",
        "ohe=  OneHotEncoder(handle_unknown=\"ignore\", sparse_output= False).set_output(transform='pandas')\n",
        "transform = ohe.fit_transform(df[[\"registro_seccional_provincia\", \"automotor_marca_descripcion\", \"EDAD\", \"automotor_anio_modelo\"]])\n",
        "\n",
        "# Dividir los datos en características (X) y etiquetas (y)\n",
        "X = transform\n",
        "y = df[\"frecuencia_robos\"]\n",
        "\n",
        "\n",
        "#X_encoded = ohe.fit_transform(df[[\"registro_seccional_provincia\", \"automotor_marca_descripcion\", \"EDAD\", \"automotor_anio_modelo\"]])\n",
        "\n",
        "\n",
        "\n",
        "# Dividir los datos en conjunto de entrenamiento y prueba\n",
        "X_train, X_test, y_train, y_test = train_test_split(X, y, test_size=0.25, random_state=42)\n",
        "\n",
        "ridge.fit(X_train, y_train)\n",
        "# Inicializar y entrenar el modelo de regresión lineal\n",
        "#regressor = LinearRegression()\n",
        "#regressor.fit(X_train, y_train)\n",
        "\n",
        "# Realizar predicciones en el conjunto de prueba\n",
        "y_pred = ridge.predict(X_test)\n",
        "\n",
        "# Evaluar el modelo\n",
        "mse = mean_squared_error(y_test, y_pred)\n",
        "print(\"Mean Squared Error:\", mse)\n"
      ],
      "metadata": {
        "colab": {
          "base_uri": "https://localhost:8080/"
        },
        "id": "_mo4dQdZDAjL",
        "outputId": "d72d5386-e01c-4928-fcf9-2a2b8da2dd22"
      },
      "execution_count": 31,
      "outputs": [
        {
          "output_type": "stream",
          "name": "stdout",
          "text": [
            "Mean Squared Error: 8.822555368398542e-09\n"
          ]
        }
      ]
    },
    {
      "cell_type": "code",
      "source": [
        "ohe = OneHotEncoder(handle_unknown=\"ignore\", sparse_output=False)\n",
        "transform = ohe.fit_transform(df[[\"registro_seccional_provincia\", \"automotor_marca_descripcion\", \"EDAD\", \"automotor_anio_modelo\"]])\n",
        "\n",
        "# División de los datos en características (X) y etiquetas (y)\n",
        "X = transform\n",
        "y = df[\"frecuencia_robos\"]\n",
        "\n",
        "# División de los datos en conjunto de entrenamiento y prueba\n",
        "X_train, X_test, y_train, y_test = train_test_split(X, y, test_size=0.25, random_state=42)\n",
        "\n",
        "# Ajuste del modelo Ridge con un valor de alpha más alto\n",
        "ridge = Ridge(alpha=1.0)  # Se incrementa el valor de alpha\n",
        "ridge.fit(X_train, y_train)\n",
        "\n",
        "# Predicciones en el conjunto de prueba\n",
        "y_pred = ridge.predict(X_test)\n",
        "\n",
        "# Evaluación del modelo\n",
        "mse = mean_squared_error(y_test, y_pred)\n",
        "print(\"Mean Squared Error:\", mse)"
      ],
      "metadata": {
        "colab": {
          "base_uri": "https://localhost:8080/"
        },
        "id": "_t1R4DjcD8T2",
        "outputId": "2866c948-d8b5-4521-e558-6c6f3b30a5cb"
      },
      "execution_count": 32,
      "outputs": [
        {
          "output_type": "stream",
          "name": "stdout",
          "text": [
            "Mean Squared Error: 8.822555368398542e-09\n"
          ]
        }
      ]
    },
    {
      "cell_type": "code",
      "source": [
        "\n",
        "from sklearn.model_selection import train_test_split, cross_val_score\n",
        "from sklearn.preprocessing import OneHotEncoder\n",
        "ohe = OneHotEncoder(handle_unknown=\"ignore\", sparse_output=False)\n",
        "transform = ohe.fit_transform(df[[\"registro_seccional_provincia\", \"automotor_marca_descripcion\", \"EDAD\", \"automotor_anio_modelo\"]])\n",
        "\n",
        "# División de los datos en características (X) y etiquetas (y)\n",
        "X = transform\n",
        "y = df[\"frecuencia_robos\"]\n",
        "\n",
        "# División de los datos en conjunto de entrenamiento y prueba\n",
        "X_train, X_test, y_train, y_test = train_test_split(X, y, test_size=0.25, random_state=42)\n",
        "\n",
        "# Ajuste del modelo Ridge con un valor de alpha de 1.0\n",
        "ridge = Ridge(alpha=1.0)\n",
        "\n",
        "# Aplicar validación cruzada con 5 pliegues\n",
        "cv_scores = cross_val_score(ridge, X_train, y_train, cv=5, scoring='neg_mean_squared_error')\n",
        "\n",
        "# Convertir los scores a MSE positivo y calcular el promedio\n",
        "mse_scores = -cv_scores\n",
        "mean_mse = mse_scores.mean()\n",
        "std_mse = mse_scores.std()\n",
        "\n",
        "print(\"Mean Squared Error (MSE) en validación cruzada:\", mean_mse)\n",
        "print(\"Desviación estándar del MSE en validación cruzada:\", std_mse)\n",
        "\n",
        "# Ajuste del modelo en todo el conjunto de entrenamiento y evaluación en el conjunto de prueba\n",
        "ridge.fit(X_train, y_train)\n",
        "y_pred = ridge.predict(X_test)\n",
        "\n",
        "# Evaluación del modelo en el conjunto de prueba\n",
        "mse_test = mean_squared_error(y_test, y_pred)\n",
        "print(\"Mean Squared Error en el conjunto de prueba:\", mse_test)"
      ],
      "metadata": {
        "colab": {
          "base_uri": "https://localhost:8080/"
        },
        "id": "5PAxuvwQDcz-",
        "outputId": "6b5ebf5e-4b64-4f71-c14f-6182862a2cd7"
      },
      "execution_count": 37,
      "outputs": [
        {
          "output_type": "stream",
          "name": "stdout",
          "text": [
            "Mean Squared Error (MSE) en validación cruzada: 9.65414030837736e-09\n",
            "Desviación estándar del MSE en validación cruzada: 3.4189828318199066e-09\n",
            "Mean Squared Error en el conjunto de prueba: 8.822555368398542e-09\n"
          ]
        }
      ]
    },
    {
      "cell_type": "markdown",
      "source": [
        "*Se* aplica el análisis de reducción de dimensionalidad, PCA (Análisis de Componentes Principales)"
      ],
      "metadata": {
        "id": "dwnGIoeYDiya"
      }
    },
    {
      "cell_type": "code",
      "source": [
        "results = pd.DataFrame({\"Frecuencia de robos real\": y_test, \"Predicción de frecuencia de robos\": y_pred})\n",
        "\n",
        "# Crear el gráfico\n",
        "plt.figure(figsize=(10, 6))\n",
        "\n",
        "# Graficar los puntos de datos\n",
        "sns.scatterplot(data=results, x=\"Frecuencia de robos real\", y=\"Predicción de frecuencia de robos\", alpha=0.7)\n",
        "\n",
        "# Graficar la línea de referencia (diagonal)\n",
        "plt.plot([results[\"Frecuencia de robos real\"].min(), results[\"Frecuencia de robos real\"].max()],\n",
        "         [results[\"Frecuencia de robos real\"].min(), results[\"Frecuencia de robos real\"].max()],\n",
        "         linestyle=\"--\", color=\"red\", label=\"Línea de referencia\")\n",
        "\n",
        "# Ajustes de estilo y etiquetas\n",
        "plt.xlabel(\"Frecuencia de robos real\")\n",
        "plt.ylabel(\"Predicción de frecuencia de robos\")\n",
        "plt.title(\"Comparación entre predicciones y valores reales\")\n",
        "plt.legend()\n",
        "\n",
        "# Mostrar el gráfico\n",
        "plt.show()"
      ],
      "metadata": {
        "colab": {
          "base_uri": "https://localhost:8080/",
          "height": 573
        },
        "id": "hnO3yanDnCco",
        "outputId": "baf74630-5f72-4094-aaa3-9dab0a160e35"
      },
      "execution_count": 38,
      "outputs": [
        {
          "output_type": "display_data",
          "data": {
            "text/plain": [
              "<Figure size 1000x600 with 1 Axes>"
            ],
            "image/png": "[encoded data removed]"
          },
          "metadata": {}
        }
      ]
    },
    {
      "cell_type": "code",
      "source": [
        "scaler = StandardScaler()\n",
        "X_scaled = scaler.fit_transform(X)\n",
        "\n",
        "# Aplicar PCA\n",
        "pca = PCA(n_components=1)  # Conservar solo la PC1\n",
        "X_pca = pca.fit_transform(X_scaled)\n",
        "\n",
        "# Dividir los datos en conjunto de entrenamiento y prueba\n",
        "X_train, X_test, y_train, y_test = train_test_split(X_pca, y, test_size=0.2, random_state=42)\n",
        "\n",
        "# Entrenar el modelo de regresión con PC1\n",
        "ridge = Ridge(alpha=1.0)\n",
        "ridge.fit(X_train, y_train)\n",
        "\n",
        "# Realizar predicciones en el conjunto de prueba\n",
        "y_pred = ridge.predict(X_test)\n",
        "\n",
        "# Evaluar el modelo\n",
        "mse = mean_squared_error(y_test, y_pred)\n",
        "print(\"Mean Squared Error:\", mse)"
      ],
      "metadata": {
        "colab": {
          "base_uri": "https://localhost:8080/"
        },
        "id": "6uv8UCP5Dl95",
        "outputId": "7ea9cef0-d496-422c-afe4-cbf352078293"
      },
      "execution_count": 39,
      "outputs": [
        {
          "output_type": "stream",
          "name": "stdout",
          "text": [
            "Mean Squared Error: 9.984757444988784e-09\n"
          ]
        }
      ]
    },
    {
      "cell_type": "markdown",
      "source": [
        "Conclusion del uso del modelo aplicado\n",
        "Dado el rango de valores de la variable objetivo y el MSE Muy bajo, cercano a  lo cual indicaría una precisión alta, tampoco es excepcionalmente alto, lo que sugiere que las predicciones del modelo son razonablemente cercanas a los valores reales en promedio.\n",
        "\n",
        "Por lo tanto, se concluye que el modelo de regresión lineal actual sigue siendo útil y representativo para predecir la variable objetivo con las variables evaluadas. Sin embargo, es importante tener en cuenta que, a medida que el volumen de robos aumenta, las predicciones del modelo pueden ser menos precisas debido a la complejidad del fenómeno y a otros factores no capturados por las variables en el modelo.\n",
        "\n",
        "con los resultados de la validacion cruzada, nos dos parametros,\n",
        "o que el modelo es extremadamente preciso, o bien que esta bajo un overfitting importante.\n",
        "Me inclino a pensar en la precision del modelo, tras los resultados de la validacion cruzada\n",
        "\n",
        "Rendimiento General del Modelo:\n",
        "\n",
        "El MSE medio en la validación cruzada es extremadamente bajo (\n",
        "9.65414030837736*10^-09). Esto indica que el modelo de regresión Ridge está funcionando muy bien en los diferentes subconjuntos de los datos de entrenamiento. Un MSE tan pequeño sugiere que las predicciones del modelo están muy cerca de los valores reales, lo cual es una señal de un modelo altamente preciso.\n",
        "Consistencia del Modelo:\n",
        "\n",
        "La desviación estándar del MSE en la validación cruzada (\n",
        "3.4189828318199066*10^-09) también es baja, lo que significa que el modelo es consistente en sus predicciones a través de los diferentes pliegues de la validación cruzada. Una baja desviación estándar indica que el rendimiento del modelo es estable y no varía significativamente entre diferentes subconjuntos de los datos de entrenamiento.\n",
        "Comparación con el Conjunto de Prueba:\n",
        "\n",
        "El MSE en el conjunto de prueba (\n",
        "8.822555368398542*10^-09) es muy similar al MSE medio obtenido en la validación cruzada. Esto es una señal positiva, ya que sugiere que el modelo generaliza bien a datos nuevos no vistos durante el entrenamiento. La similitud entre estos valores indica que el modelo no está sobreajustado a los datos de entrenamiento y es capaz de mantener su precisión en datos de prueba.\n",
        "Conclusión:\n",
        "Los resultados muestran que el modelo de regresión Ridge es altamente preciso y consistente. La similitud entre el MSE de validación cruzada y el MSE del conjunto de prueba sugiere que el modelo tiene un buen rendimiento general y no está sobreajustado. En resumen, el modelo parece ser robusto y efectivo para predecir la frecuencia de robos basándose en las características proporcionadas."
      ],
      "metadata": {
        "id": "T0gts1WqDqhg"
      }
    }
  ]
}